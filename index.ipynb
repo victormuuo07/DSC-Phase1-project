{
 "cells": [
  {
   "cell_type": "markdown",
   "metadata": {},
   "source": [
    "# Movie recommendation Analysis for Microsoft's New Studio\n",
    "\n",
    "This project explores movie data to identify trends in box office performance and provide actionable recommendations for Microsoft's new movie studio.\n",
    "\n",
    "## Overview\n",
    "Microsoft is venturing into movie production and seeks insights into successful film types. This analysis utilizes exploratory data analysis techniques to uncover patterns that can inform their content creation strategy.\n",
    "\n",
    "## Business Understanding\n",
    "> ### Stakeholder and Key Business Questions\n",
    ">> *  #### Stakeholder: \n",
    ">>> Microsoft (Head of the new movie studio)   \n",
    ">> * #### Key Business Questions: \n",
    ">>>  Microsoft has decided to venture into the film industry by creating a new movie studio.  However, they lack prior experience in movie production. This project aims to leverage data analysis to provide valuable insights that can inform their content creation strategy. The key question we will address is: \n",
    ">>> 1. Which movie genres are historically associated with the highest box office gross? This will help Microsoft prioritize genres that have a proven track record of financial success. \n",
    ">>> 2. Is there a strong correlation between a movie's budget and its box office performance? Understanding this relationship can inform budget allocation strategies for different movie types.\n",
    ">>> 3. Can you identify any patterns between movie genres, budgets, and profitability (box office gross minus budget)? Profitability analysis goes beyond just box office and helps assess the financial viability of different movie concepts.\n",
    ">>> 4. Based on genre preferences and box office performance, can you identify potential target audiences for different movie types? Understanding target audiences allows Microsoft to tailor their marketing and distribution strategies for maximum impact.\n",
    ">>> 5. Are there any emerging trends in movie genres or audience preferences that Microsoft should consider? Staying ahead of the curve by identifying these trends can give Microsoft a competitive advantage.\n",
    "\n",
    ">>>> By analyzing movie data from various sources, including box office gross, genre, cast, and director information, we can identify trends associated with successful films. This will help us translate these findings into actionable recommendations for the types of movies Microsoft should prioritize in their production pipeline.\n",
    "\n",
    "\n",
    "\n"
   ]
  },
  {
   "cell_type": "markdown",
   "metadata": {},
   "source": [
    "## 1. DATA UNDERSTANDING"
   ]
  },
  {
   "cell_type": "markdown",
   "metadata": {},
   "source": [
    "Here we will:\n",
    ">> * import the necessary libraries\n",
    ">> * Read the data files using pandas into a dataframe\n",
    ">> * Check what the datasets are made of, and check on various information which is going to answer the Five key Questions"
   ]
  },
  {
   "cell_type": "markdown",
   "metadata": {},
   "source": [
    "### 1.1 importing libraries"
   ]
  },
  {
   "cell_type": "code",
   "execution_count": 3,
   "metadata": {},
   "outputs": [],
   "source": [
    "#import libraries\n",
    "import pandas as pd\n",
    "import numpy as np\n",
    "import matplotlib.pyplot as plt\n",
    "import seaborn as sns"
   ]
  },
  {
   "cell_type": "markdown",
   "metadata": {},
   "source": [
    "### 1.2 Read the data files using pandas into a DataFrame"
   ]
  },
  {
   "cell_type": "markdown",
   "metadata": {},
   "source": [
    "#### 1.2.1 Read `bom.movie_gross.csv` into a pandas DataFrame named `bom_movie_gross_df`"
   ]
  },
  {
   "cell_type": "code",
   "execution_count": 4,
   "metadata": {},
   "outputs": [
    {
     "data": {
      "text/html": [
       "<div>\n",
       "<style scoped>\n",
       "    .dataframe tbody tr th:only-of-type {\n",
       "        vertical-align: middle;\n",
       "    }\n",
       "\n",
       "    .dataframe tbody tr th {\n",
       "        vertical-align: top;\n",
       "    }\n",
       "\n",
       "    .dataframe thead th {\n",
       "        text-align: right;\n",
       "    }\n",
       "</style>\n",
       "<table border=\"1\" class=\"dataframe\">\n",
       "  <thead>\n",
       "    <tr style=\"text-align: right;\">\n",
       "      <th></th>\n",
       "      <th>title</th>\n",
       "      <th>studio</th>\n",
       "      <th>domestic_gross</th>\n",
       "      <th>foreign_gross</th>\n",
       "      <th>year</th>\n",
       "    </tr>\n",
       "  </thead>\n",
       "  <tbody>\n",
       "    <tr>\n",
       "      <th>0</th>\n",
       "      <td>Toy Story 3</td>\n",
       "      <td>BV</td>\n",
       "      <td>415000000.0</td>\n",
       "      <td>652000000</td>\n",
       "      <td>2010</td>\n",
       "    </tr>\n",
       "    <tr>\n",
       "      <th>1</th>\n",
       "      <td>Alice in Wonderland (2010)</td>\n",
       "      <td>BV</td>\n",
       "      <td>334200000.0</td>\n",
       "      <td>691300000</td>\n",
       "      <td>2010</td>\n",
       "    </tr>\n",
       "    <tr>\n",
       "      <th>2</th>\n",
       "      <td>Harry Potter and the Deathly Hallows Part 1</td>\n",
       "      <td>WB</td>\n",
       "      <td>296000000.0</td>\n",
       "      <td>664300000</td>\n",
       "      <td>2010</td>\n",
       "    </tr>\n",
       "    <tr>\n",
       "      <th>3</th>\n",
       "      <td>Inception</td>\n",
       "      <td>WB</td>\n",
       "      <td>292600000.0</td>\n",
       "      <td>535700000</td>\n",
       "      <td>2010</td>\n",
       "    </tr>\n",
       "    <tr>\n",
       "      <th>4</th>\n",
       "      <td>Shrek Forever After</td>\n",
       "      <td>P/DW</td>\n",
       "      <td>238700000.0</td>\n",
       "      <td>513900000</td>\n",
       "      <td>2010</td>\n",
       "    </tr>\n",
       "  </tbody>\n",
       "</table>\n",
       "</div>"
      ],
      "text/plain": [
       "                                         title studio  domestic_gross  \\\n",
       "0                                  Toy Story 3     BV     415000000.0   \n",
       "1                   Alice in Wonderland (2010)     BV     334200000.0   \n",
       "2  Harry Potter and the Deathly Hallows Part 1     WB     296000000.0   \n",
       "3                                    Inception     WB     292600000.0   \n",
       "4                          Shrek Forever After   P/DW     238700000.0   \n",
       "\n",
       "  foreign_gross  year  \n",
       "0     652000000  2010  \n",
       "1     691300000  2010  \n",
       "2     664300000  2010  \n",
       "3     535700000  2010  \n",
       "4     513900000  2010  "
      ]
     },
     "execution_count": 4,
     "metadata": {},
     "output_type": "execute_result"
    }
   ],
   "source": [
    "# read the data using pandas \n",
    "# check the first 5 values using the head function \n",
    "bom_movie_gross_df = pd.read_csv('data/bom.movie_gross.csv.')\n",
    "bom_movie_gross_df .head()"
   ]
  },
  {
   "cell_type": "code",
   "execution_count": 5,
   "metadata": {},
   "outputs": [
    {
     "data": {
      "text/plain": [
       "<bound method DataFrame.info of                                             title      studio  domestic_gross  \\\n",
       "0                                     Toy Story 3          BV     415000000.0   \n",
       "1                      Alice in Wonderland (2010)          BV     334200000.0   \n",
       "2     Harry Potter and the Deathly Hallows Part 1          WB     296000000.0   \n",
       "3                                       Inception          WB     292600000.0   \n",
       "4                             Shrek Forever After        P/DW     238700000.0   \n",
       "...                                           ...         ...             ...   \n",
       "3382                                    The Quake       Magn.          6200.0   \n",
       "3383                  Edward II (2018 re-release)          FM          4800.0   \n",
       "3384                                     El Pacto        Sony          2500.0   \n",
       "3385                                     The Swan  Synergetic          2400.0   \n",
       "3386                            An Actor Prepares       Grav.          1700.0   \n",
       "\n",
       "     foreign_gross  year  \n",
       "0        652000000  2010  \n",
       "1        691300000  2010  \n",
       "2        664300000  2010  \n",
       "3        535700000  2010  \n",
       "4        513900000  2010  \n",
       "...            ...   ...  \n",
       "3382           NaN  2018  \n",
       "3383           NaN  2018  \n",
       "3384           NaN  2018  \n",
       "3385           NaN  2018  \n",
       "3386           NaN  2018  \n",
       "\n",
       "[3387 rows x 5 columns]>"
      ]
     },
     "execution_count": 5,
     "metadata": {},
     "output_type": "execute_result"
    }
   ],
   "source": [
    "#check  more information in the df like null values\n",
    "bom_movie_gross_df.info\n"
   ]
  },
  {
   "cell_type": "code",
   "execution_count": 6,
   "metadata": {},
   "outputs": [
    {
     "data": {
      "text/plain": [
       "year\n",
       "2015    450\n",
       "2016    436\n",
       "2012    400\n",
       "2011    399\n",
       "2014    395\n",
       "2013    350\n",
       "2010    328\n",
       "2017    321\n",
       "2018    308\n",
       "Name: count, dtype: int64"
      ]
     },
     "execution_count": 6,
     "metadata": {},
     "output_type": "execute_result"
    }
   ],
   "source": [
    "#check years value counts \n",
    "bom_movie_gross_df['year'].value_counts()"
   ]
  },
  {
   "cell_type": "markdown",
   "metadata": {},
   "source": [
    "* The DataFrame has 3387 rows and 5 columns \n",
    "* The column names are: 'title', 'studio', 'domestic_gross', 'foreign_gross', and 'year'.\n",
    "* All the data types seem to be appropriate for the data being represented:\n",
    ">> - 'title' is most likely object/string type, containing movie titles.\n",
    ">> - 'studio' is most likely object/string type, containing movie studios.\n",
    ">> - 'domestic_gross' and 'foreign_gross' are likely numeric data types (float or integer), representing domestic and foreign gross in some currency.\n",
    ">> - 'year' is most likely numeric data type (integer), representing the year the movie was released.\n",
    ">> - There are NaN values present in some rows of 'foreign_gross' column. This means some data points are missing information about the foreign gross of the movie \n",
    "\n",
    "* What is the distribution of domestic gross and foreign gross? Are there any outliers?\n",
    "* What is the most frequent movie studio in the data?\n",
    "* How many unique movie titles are there?\n",
    "* Are there any correlations between the features (e.g., between domestic gross and foreign gross, or release year and genre)?"
   ]
  },
  {
   "cell_type": "markdown",
   "metadata": {},
   "source": [
    "#### 1.2.2 Read `bom.movie_gross.csv` into a Pandas Dataframe `tmdb_df`"
   ]
  },
  {
   "cell_type": "code",
   "execution_count": 7,
   "metadata": {},
   "outputs": [
    {
     "data": {
      "text/html": [
       "<div>\n",
       "<style scoped>\n",
       "    .dataframe tbody tr th:only-of-type {\n",
       "        vertical-align: middle;\n",
       "    }\n",
       "\n",
       "    .dataframe tbody tr th {\n",
       "        vertical-align: top;\n",
       "    }\n",
       "\n",
       "    .dataframe thead th {\n",
       "        text-align: right;\n",
       "    }\n",
       "</style>\n",
       "<table border=\"1\" class=\"dataframe\">\n",
       "  <thead>\n",
       "    <tr style=\"text-align: right;\">\n",
       "      <th></th>\n",
       "      <th>genre_ids</th>\n",
       "      <th>id</th>\n",
       "      <th>original_language</th>\n",
       "      <th>original_title</th>\n",
       "      <th>popularity</th>\n",
       "      <th>release_date</th>\n",
       "      <th>title</th>\n",
       "      <th>vote_average</th>\n",
       "      <th>vote_count</th>\n",
       "    </tr>\n",
       "  </thead>\n",
       "  <tbody>\n",
       "    <tr>\n",
       "      <th>0</th>\n",
       "      <td>[12, 14, 10751]</td>\n",
       "      <td>12444</td>\n",
       "      <td>en</td>\n",
       "      <td>Harry Potter and the Deathly Hallows: Part 1</td>\n",
       "      <td>33.533</td>\n",
       "      <td>2010-11-19</td>\n",
       "      <td>Harry Potter and the Deathly Hallows: Part 1</td>\n",
       "      <td>7.7</td>\n",
       "      <td>10788</td>\n",
       "    </tr>\n",
       "    <tr>\n",
       "      <th>1</th>\n",
       "      <td>[14, 12, 16, 10751]</td>\n",
       "      <td>10191</td>\n",
       "      <td>en</td>\n",
       "      <td>How to Train Your Dragon</td>\n",
       "      <td>28.734</td>\n",
       "      <td>2010-03-26</td>\n",
       "      <td>How to Train Your Dragon</td>\n",
       "      <td>7.7</td>\n",
       "      <td>7610</td>\n",
       "    </tr>\n",
       "    <tr>\n",
       "      <th>2</th>\n",
       "      <td>[12, 28, 878]</td>\n",
       "      <td>10138</td>\n",
       "      <td>en</td>\n",
       "      <td>Iron Man 2</td>\n",
       "      <td>28.515</td>\n",
       "      <td>2010-05-07</td>\n",
       "      <td>Iron Man 2</td>\n",
       "      <td>6.8</td>\n",
       "      <td>12368</td>\n",
       "    </tr>\n",
       "    <tr>\n",
       "      <th>3</th>\n",
       "      <td>[16, 35, 10751]</td>\n",
       "      <td>862</td>\n",
       "      <td>en</td>\n",
       "      <td>Toy Story</td>\n",
       "      <td>28.005</td>\n",
       "      <td>1995-11-22</td>\n",
       "      <td>Toy Story</td>\n",
       "      <td>7.9</td>\n",
       "      <td>10174</td>\n",
       "    </tr>\n",
       "    <tr>\n",
       "      <th>4</th>\n",
       "      <td>[28, 878, 12]</td>\n",
       "      <td>27205</td>\n",
       "      <td>en</td>\n",
       "      <td>Inception</td>\n",
       "      <td>27.920</td>\n",
       "      <td>2010-07-16</td>\n",
       "      <td>Inception</td>\n",
       "      <td>8.3</td>\n",
       "      <td>22186</td>\n",
       "    </tr>\n",
       "  </tbody>\n",
       "</table>\n",
       "</div>"
      ],
      "text/plain": [
       "             genre_ids     id original_language  \\\n",
       "0      [12, 14, 10751]  12444                en   \n",
       "1  [14, 12, 16, 10751]  10191                en   \n",
       "2        [12, 28, 878]  10138                en   \n",
       "3      [16, 35, 10751]    862                en   \n",
       "4        [28, 878, 12]  27205                en   \n",
       "\n",
       "                                 original_title  popularity release_date  \\\n",
       "0  Harry Potter and the Deathly Hallows: Part 1      33.533   2010-11-19   \n",
       "1                      How to Train Your Dragon      28.734   2010-03-26   \n",
       "2                                    Iron Man 2      28.515   2010-05-07   \n",
       "3                                     Toy Story      28.005   1995-11-22   \n",
       "4                                     Inception      27.920   2010-07-16   \n",
       "\n",
       "                                          title  vote_average  vote_count  \n",
       "0  Harry Potter and the Deathly Hallows: Part 1           7.7       10788  \n",
       "1                      How to Train Your Dragon           7.7        7610  \n",
       "2                                    Iron Man 2           6.8       12368  \n",
       "3                                     Toy Story           7.9       10174  \n",
       "4                                     Inception           8.3       22186  "
      ]
     },
     "execution_count": 7,
     "metadata": {},
     "output_type": "execute_result"
    }
   ],
   "source": [
    "# read the data using pandas \n",
    "# check the first 5 values using the head function \n",
    "tmdb_df= pd.read_csv(\"data/tmdb.movies.csv\",index_col=0)\n",
    "tmdb_df.head()"
   ]
  },
  {
   "cell_type": "code",
   "execution_count": 8,
   "metadata": {},
   "outputs": [
    {
     "data": {
      "text/plain": [
       "<bound method DataFrame.info of                  genre_ids      id original_language  \\\n",
       "0          [12, 14, 10751]   12444                en   \n",
       "1      [14, 12, 16, 10751]   10191                en   \n",
       "2            [12, 28, 878]   10138                en   \n",
       "3          [16, 35, 10751]     862                en   \n",
       "4            [28, 878, 12]   27205                en   \n",
       "...                    ...     ...               ...   \n",
       "26512             [27, 18]  488143                en   \n",
       "26513             [18, 53]  485975                en   \n",
       "26514         [14, 28, 12]  381231                en   \n",
       "26515      [10751, 12, 28]  366854                en   \n",
       "26516             [53, 27]  309885                en   \n",
       "\n",
       "                                     original_title  popularity release_date  \\\n",
       "0      Harry Potter and the Deathly Hallows: Part 1      33.533   2010-11-19   \n",
       "1                          How to Train Your Dragon      28.734   2010-03-26   \n",
       "2                                        Iron Man 2      28.515   2010-05-07   \n",
       "3                                         Toy Story      28.005   1995-11-22   \n",
       "4                                         Inception      27.920   2010-07-16   \n",
       "...                                             ...         ...          ...   \n",
       "26512                         Laboratory Conditions       0.600   2018-10-13   \n",
       "26513                               _EXHIBIT_84xxx_       0.600   2018-05-01   \n",
       "26514                                  The Last One       0.600   2018-10-01   \n",
       "26515                                  Trailer Made       0.600   2018-06-22   \n",
       "26516                                    The Church       0.600   2018-10-05   \n",
       "\n",
       "                                              title  vote_average  vote_count  \n",
       "0      Harry Potter and the Deathly Hallows: Part 1           7.7       10788  \n",
       "1                          How to Train Your Dragon           7.7        7610  \n",
       "2                                        Iron Man 2           6.8       12368  \n",
       "3                                         Toy Story           7.9       10174  \n",
       "4                                         Inception           8.3       22186  \n",
       "...                                             ...           ...         ...  \n",
       "26512                         Laboratory Conditions           0.0           1  \n",
       "26513                               _EXHIBIT_84xxx_           0.0           1  \n",
       "26514                                  The Last One           0.0           1  \n",
       "26515                                  Trailer Made           0.0           1  \n",
       "26516                                    The Church           0.0           1  \n",
       "\n",
       "[26517 rows x 9 columns]>"
      ]
     },
     "execution_count": 8,
     "metadata": {},
     "output_type": "execute_result"
    }
   ],
   "source": [
    "#check  more information in the df like null values\n",
    "tmdb_df.info"
   ]
  },
  {
   "cell_type": "markdown",
   "metadata": {},
   "source": [
    "#### 1.2.3 Read `tn.movie_budgets.csv` into a pandas `tn_movie_df`"
   ]
  },
  {
   "cell_type": "code",
   "execution_count": 9,
   "metadata": {},
   "outputs": [
    {
     "data": {
      "text/html": [
       "<div>\n",
       "<style scoped>\n",
       "    .dataframe tbody tr th:only-of-type {\n",
       "        vertical-align: middle;\n",
       "    }\n",
       "\n",
       "    .dataframe tbody tr th {\n",
       "        vertical-align: top;\n",
       "    }\n",
       "\n",
       "    .dataframe thead th {\n",
       "        text-align: right;\n",
       "    }\n",
       "</style>\n",
       "<table border=\"1\" class=\"dataframe\">\n",
       "  <thead>\n",
       "    <tr style=\"text-align: right;\">\n",
       "      <th></th>\n",
       "      <th>id</th>\n",
       "      <th>release_date</th>\n",
       "      <th>movie</th>\n",
       "      <th>production_budget</th>\n",
       "      <th>domestic_gross</th>\n",
       "      <th>worldwide_gross</th>\n",
       "    </tr>\n",
       "  </thead>\n",
       "  <tbody>\n",
       "    <tr>\n",
       "      <th>0</th>\n",
       "      <td>1</td>\n",
       "      <td>Dec 18, 2009</td>\n",
       "      <td>Avatar</td>\n",
       "      <td>$425,000,000</td>\n",
       "      <td>$760,507,625</td>\n",
       "      <td>$2,776,345,279</td>\n",
       "    </tr>\n",
       "    <tr>\n",
       "      <th>1</th>\n",
       "      <td>2</td>\n",
       "      <td>May 20, 2011</td>\n",
       "      <td>Pirates of the Caribbean: On Stranger Tides</td>\n",
       "      <td>$410,600,000</td>\n",
       "      <td>$241,063,875</td>\n",
       "      <td>$1,045,663,875</td>\n",
       "    </tr>\n",
       "    <tr>\n",
       "      <th>2</th>\n",
       "      <td>3</td>\n",
       "      <td>Jun 7, 2019</td>\n",
       "      <td>Dark Phoenix</td>\n",
       "      <td>$350,000,000</td>\n",
       "      <td>$42,762,350</td>\n",
       "      <td>$149,762,350</td>\n",
       "    </tr>\n",
       "    <tr>\n",
       "      <th>3</th>\n",
       "      <td>4</td>\n",
       "      <td>May 1, 2015</td>\n",
       "      <td>Avengers: Age of Ultron</td>\n",
       "      <td>$330,600,000</td>\n",
       "      <td>$459,005,868</td>\n",
       "      <td>$1,403,013,963</td>\n",
       "    </tr>\n",
       "    <tr>\n",
       "      <th>4</th>\n",
       "      <td>5</td>\n",
       "      <td>Dec 15, 2017</td>\n",
       "      <td>Star Wars Ep. VIII: The Last Jedi</td>\n",
       "      <td>$317,000,000</td>\n",
       "      <td>$620,181,382</td>\n",
       "      <td>$1,316,721,747</td>\n",
       "    </tr>\n",
       "  </tbody>\n",
       "</table>\n",
       "</div>"
      ],
      "text/plain": [
       "   id  release_date                                        movie  \\\n",
       "0   1  Dec 18, 2009                                       Avatar   \n",
       "1   2  May 20, 2011  Pirates of the Caribbean: On Stranger Tides   \n",
       "2   3   Jun 7, 2019                                 Dark Phoenix   \n",
       "3   4   May 1, 2015                      Avengers: Age of Ultron   \n",
       "4   5  Dec 15, 2017            Star Wars Ep. VIII: The Last Jedi   \n",
       "\n",
       "  production_budget domestic_gross worldwide_gross  \n",
       "0      $425,000,000   $760,507,625  $2,776,345,279  \n",
       "1      $410,600,000   $241,063,875  $1,045,663,875  \n",
       "2      $350,000,000    $42,762,350    $149,762,350  \n",
       "3      $330,600,000   $459,005,868  $1,403,013,963  \n",
       "4      $317,000,000   $620,181,382  $1,316,721,747  "
      ]
     },
     "execution_count": 9,
     "metadata": {},
     "output_type": "execute_result"
    }
   ],
   "source": [
    "# read the data using pandas \n",
    "# check the first 5 values using the head function \n",
    "\n",
    "tn_movie_df = pd.read_csv('data/tn.movie_budgets.csv')\n",
    "tn_movie_df.head()"
   ]
  },
  {
   "cell_type": "code",
   "execution_count": 10,
   "metadata": {},
   "outputs": [
    {
     "data": {
      "text/plain": [
       "<bound method DataFrame.info of       id  release_date                                        movie  \\\n",
       "0      1  Dec 18, 2009                                       Avatar   \n",
       "1      2  May 20, 2011  Pirates of the Caribbean: On Stranger Tides   \n",
       "2      3   Jun 7, 2019                                 Dark Phoenix   \n",
       "3      4   May 1, 2015                      Avengers: Age of Ultron   \n",
       "4      5  Dec 15, 2017            Star Wars Ep. VIII: The Last Jedi   \n",
       "...   ..           ...                                          ...   \n",
       "5777  78  Dec 31, 2018                                       Red 11   \n",
       "5778  79   Apr 2, 1999                                    Following   \n",
       "5779  80  Jul 13, 2005                Return to the Land of Wonders   \n",
       "5780  81  Sep 29, 2015                         A Plague So Pleasant   \n",
       "5781  82   Aug 5, 2005                            My Date With Drew   \n",
       "\n",
       "     production_budget domestic_gross worldwide_gross  \n",
       "0         $425,000,000   $760,507,625  $2,776,345,279  \n",
       "1         $410,600,000   $241,063,875  $1,045,663,875  \n",
       "2         $350,000,000    $42,762,350    $149,762,350  \n",
       "3         $330,600,000   $459,005,868  $1,403,013,963  \n",
       "4         $317,000,000   $620,181,382  $1,316,721,747  \n",
       "...                ...            ...             ...  \n",
       "5777            $7,000             $0              $0  \n",
       "5778            $6,000        $48,482        $240,495  \n",
       "5779            $5,000         $1,338          $1,338  \n",
       "5780            $1,400             $0              $0  \n",
       "5781            $1,100       $181,041        $181,041  \n",
       "\n",
       "[5782 rows x 6 columns]>"
      ]
     },
     "execution_count": 10,
     "metadata": {},
     "output_type": "execute_result"
    }
   ],
   "source": [
    "#check  more information in the df like null values\n",
    "tn_movie_df.info"
   ]
  },
  {
   "cell_type": "markdown",
   "metadata": {},
   "source": [
    "#### 1.2.4 Read `rt.reviews.tsv` into a pandas `reviews_tsv_df`"
   ]
  },
  {
   "cell_type": "code",
   "execution_count": 11,
   "metadata": {},
   "outputs": [
    {
     "data": {
      "text/html": [
       "<div>\n",
       "<style scoped>\n",
       "    .dataframe tbody tr th:only-of-type {\n",
       "        vertical-align: middle;\n",
       "    }\n",
       "\n",
       "    .dataframe tbody tr th {\n",
       "        vertical-align: top;\n",
       "    }\n",
       "\n",
       "    .dataframe thead th {\n",
       "        text-align: right;\n",
       "    }\n",
       "</style>\n",
       "<table border=\"1\" class=\"dataframe\">\n",
       "  <thead>\n",
       "    <tr style=\"text-align: right;\">\n",
       "      <th></th>\n",
       "      <th>id</th>\n",
       "      <th>review</th>\n",
       "      <th>rating</th>\n",
       "      <th>fresh</th>\n",
       "      <th>critic</th>\n",
       "      <th>top_critic</th>\n",
       "      <th>publisher</th>\n",
       "      <th>date</th>\n",
       "    </tr>\n",
       "  </thead>\n",
       "  <tbody>\n",
       "    <tr>\n",
       "      <th>0</th>\n",
       "      <td>3</td>\n",
       "      <td>A distinctly gallows take on contemporary fina...</td>\n",
       "      <td>3/5</td>\n",
       "      <td>fresh</td>\n",
       "      <td>PJ Nabarro</td>\n",
       "      <td>0</td>\n",
       "      <td>Patrick Nabarro</td>\n",
       "      <td>November 10, 2018</td>\n",
       "    </tr>\n",
       "    <tr>\n",
       "      <th>1</th>\n",
       "      <td>3</td>\n",
       "      <td>It's an allegory in search of a meaning that n...</td>\n",
       "      <td>NaN</td>\n",
       "      <td>rotten</td>\n",
       "      <td>Annalee Newitz</td>\n",
       "      <td>0</td>\n",
       "      <td>io9.com</td>\n",
       "      <td>May 23, 2018</td>\n",
       "    </tr>\n",
       "    <tr>\n",
       "      <th>2</th>\n",
       "      <td>3</td>\n",
       "      <td>... life lived in a bubble in financial dealin...</td>\n",
       "      <td>NaN</td>\n",
       "      <td>fresh</td>\n",
       "      <td>Sean Axmaker</td>\n",
       "      <td>0</td>\n",
       "      <td>Stream on Demand</td>\n",
       "      <td>January 4, 2018</td>\n",
       "    </tr>\n",
       "    <tr>\n",
       "      <th>3</th>\n",
       "      <td>3</td>\n",
       "      <td>Continuing along a line introduced in last yea...</td>\n",
       "      <td>NaN</td>\n",
       "      <td>fresh</td>\n",
       "      <td>Daniel Kasman</td>\n",
       "      <td>0</td>\n",
       "      <td>MUBI</td>\n",
       "      <td>November 16, 2017</td>\n",
       "    </tr>\n",
       "    <tr>\n",
       "      <th>4</th>\n",
       "      <td>3</td>\n",
       "      <td>... a perverse twist on neorealism...</td>\n",
       "      <td>NaN</td>\n",
       "      <td>fresh</td>\n",
       "      <td>NaN</td>\n",
       "      <td>0</td>\n",
       "      <td>Cinema Scope</td>\n",
       "      <td>October 12, 2017</td>\n",
       "    </tr>\n",
       "  </tbody>\n",
       "</table>\n",
       "</div>"
      ],
      "text/plain": [
       "   id                                             review rating   fresh  \\\n",
       "0   3  A distinctly gallows take on contemporary fina...    3/5   fresh   \n",
       "1   3  It's an allegory in search of a meaning that n...    NaN  rotten   \n",
       "2   3  ... life lived in a bubble in financial dealin...    NaN   fresh   \n",
       "3   3  Continuing along a line introduced in last yea...    NaN   fresh   \n",
       "4   3             ... a perverse twist on neorealism...     NaN   fresh   \n",
       "\n",
       "           critic  top_critic         publisher               date  \n",
       "0      PJ Nabarro           0   Patrick Nabarro  November 10, 2018  \n",
       "1  Annalee Newitz           0           io9.com       May 23, 2018  \n",
       "2    Sean Axmaker           0  Stream on Demand    January 4, 2018  \n",
       "3   Daniel Kasman           0              MUBI  November 16, 2017  \n",
       "4             NaN           0      Cinema Scope   October 12, 2017  "
      ]
     },
     "execution_count": 11,
     "metadata": {},
     "output_type": "execute_result"
    }
   ],
   "source": [
    "reviews_tsv_df = pd.read_csv('data/rt.reviews.tsv', sep='\\t', encoding='latin-1')\n",
    "reviews_tsv_df.head()"
   ]
  },
  {
   "cell_type": "code",
   "execution_count": 12,
   "metadata": {},
   "outputs": [
    {
     "data": {
      "text/plain": [
       "<bound method DataFrame.info of          id                                             review rating   fresh  \\\n",
       "0         3  A distinctly gallows take on contemporary fina...    3/5   fresh   \n",
       "1         3  It's an allegory in search of a meaning that n...    NaN  rotten   \n",
       "2         3  ... life lived in a bubble in financial dealin...    NaN   fresh   \n",
       "3         3  Continuing along a line introduced in last yea...    NaN   fresh   \n",
       "4         3             ... a perverse twist on neorealism...     NaN   fresh   \n",
       "...     ...                                                ...    ...     ...   \n",
       "54427  2000  The real charm of this trifle is the deadpan c...    NaN   fresh   \n",
       "54428  2000                                                NaN    1/5  rotten   \n",
       "54429  2000                                                NaN    2/5  rotten   \n",
       "54430  2000                                                NaN  2.5/5  rotten   \n",
       "54431  2000                                                NaN    3/5   fresh   \n",
       "\n",
       "                  critic  top_critic         publisher                date  \n",
       "0             PJ Nabarro           0   Patrick Nabarro   November 10, 2018  \n",
       "1         Annalee Newitz           0           io9.com        May 23, 2018  \n",
       "2           Sean Axmaker           0  Stream on Demand     January 4, 2018  \n",
       "3          Daniel Kasman           0              MUBI   November 16, 2017  \n",
       "4                    NaN           0      Cinema Scope    October 12, 2017  \n",
       "...                  ...         ...               ...                 ...  \n",
       "54427      Laura Sinagra           1     Village Voice  September 24, 2002  \n",
       "54428  Michael Szymanski           0        Zap2it.com  September 21, 2005  \n",
       "54429       Emanuel Levy           0   EmanuelLevy.Com       July 17, 2005  \n",
       "54430   Christopher Null           0    Filmcritic.com   September 7, 2003  \n",
       "54431    Nicolas Lacroix           0      Showbizz.net   November 12, 2002  \n",
       "\n",
       "[54432 rows x 8 columns]>"
      ]
     },
     "execution_count": 12,
     "metadata": {},
     "output_type": "execute_result"
    }
   ],
   "source": [
    "reviews_tsv_df.info\n"
   ]
  },
  {
   "cell_type": "markdown",
   "metadata": {},
   "source": [
    "#### 1.2.5 Read `rt.movie_info.tsv` into a pandas `movie_info_tsv_df`"
   ]
  },
  {
   "cell_type": "code",
   "execution_count": 13,
   "metadata": {},
   "outputs": [
    {
     "data": {
      "text/html": [
       "<div>\n",
       "<style scoped>\n",
       "    .dataframe tbody tr th:only-of-type {\n",
       "        vertical-align: middle;\n",
       "    }\n",
       "\n",
       "    .dataframe tbody tr th {\n",
       "        vertical-align: top;\n",
       "    }\n",
       "\n",
       "    .dataframe thead th {\n",
       "        text-align: right;\n",
       "    }\n",
       "</style>\n",
       "<table border=\"1\" class=\"dataframe\">\n",
       "  <thead>\n",
       "    <tr style=\"text-align: right;\">\n",
       "      <th></th>\n",
       "      <th>id</th>\n",
       "      <th>synopsis</th>\n",
       "      <th>rating</th>\n",
       "      <th>genre</th>\n",
       "      <th>director</th>\n",
       "      <th>writer</th>\n",
       "      <th>theater_date</th>\n",
       "      <th>dvd_date</th>\n",
       "      <th>currency</th>\n",
       "      <th>box_office</th>\n",
       "      <th>runtime</th>\n",
       "      <th>studio</th>\n",
       "    </tr>\n",
       "  </thead>\n",
       "  <tbody>\n",
       "    <tr>\n",
       "      <th>0</th>\n",
       "      <td>1</td>\n",
       "      <td>This gritty, fast-paced, and innovative police...</td>\n",
       "      <td>R</td>\n",
       "      <td>Action and Adventure|Classics|Drama</td>\n",
       "      <td>William Friedkin</td>\n",
       "      <td>Ernest Tidyman</td>\n",
       "      <td>Oct 9, 1971</td>\n",
       "      <td>Sep 25, 2001</td>\n",
       "      <td>NaN</td>\n",
       "      <td>NaN</td>\n",
       "      <td>104 minutes</td>\n",
       "      <td>NaN</td>\n",
       "    </tr>\n",
       "    <tr>\n",
       "      <th>1</th>\n",
       "      <td>3</td>\n",
       "      <td>New York City, not-too-distant-future: Eric Pa...</td>\n",
       "      <td>R</td>\n",
       "      <td>Drama|Science Fiction and Fantasy</td>\n",
       "      <td>David Cronenberg</td>\n",
       "      <td>David Cronenberg|Don DeLillo</td>\n",
       "      <td>Aug 17, 2012</td>\n",
       "      <td>Jan 1, 2013</td>\n",
       "      <td>$</td>\n",
       "      <td>600,000</td>\n",
       "      <td>108 minutes</td>\n",
       "      <td>Entertainment One</td>\n",
       "    </tr>\n",
       "    <tr>\n",
       "      <th>2</th>\n",
       "      <td>5</td>\n",
       "      <td>Illeana Douglas delivers a superb performance ...</td>\n",
       "      <td>R</td>\n",
       "      <td>Drama|Musical and Performing Arts</td>\n",
       "      <td>Allison Anders</td>\n",
       "      <td>Allison Anders</td>\n",
       "      <td>Sep 13, 1996</td>\n",
       "      <td>Apr 18, 2000</td>\n",
       "      <td>NaN</td>\n",
       "      <td>NaN</td>\n",
       "      <td>116 minutes</td>\n",
       "      <td>NaN</td>\n",
       "    </tr>\n",
       "    <tr>\n",
       "      <th>3</th>\n",
       "      <td>6</td>\n",
       "      <td>Michael Douglas runs afoul of a treacherous su...</td>\n",
       "      <td>R</td>\n",
       "      <td>Drama|Mystery and Suspense</td>\n",
       "      <td>Barry Levinson</td>\n",
       "      <td>Paul Attanasio|Michael Crichton</td>\n",
       "      <td>Dec 9, 1994</td>\n",
       "      <td>Aug 27, 1997</td>\n",
       "      <td>NaN</td>\n",
       "      <td>NaN</td>\n",
       "      <td>128 minutes</td>\n",
       "      <td>NaN</td>\n",
       "    </tr>\n",
       "    <tr>\n",
       "      <th>4</th>\n",
       "      <td>7</td>\n",
       "      <td>NaN</td>\n",
       "      <td>NR</td>\n",
       "      <td>Drama|Romance</td>\n",
       "      <td>Rodney Bennett</td>\n",
       "      <td>Giles Cooper</td>\n",
       "      <td>NaN</td>\n",
       "      <td>NaN</td>\n",
       "      <td>NaN</td>\n",
       "      <td>NaN</td>\n",
       "      <td>200 minutes</td>\n",
       "      <td>NaN</td>\n",
       "    </tr>\n",
       "  </tbody>\n",
       "</table>\n",
       "</div>"
      ],
      "text/plain": [
       "   id                                           synopsis rating  \\\n",
       "0   1  This gritty, fast-paced, and innovative police...      R   \n",
       "1   3  New York City, not-too-distant-future: Eric Pa...      R   \n",
       "2   5  Illeana Douglas delivers a superb performance ...      R   \n",
       "3   6  Michael Douglas runs afoul of a treacherous su...      R   \n",
       "4   7                                                NaN     NR   \n",
       "\n",
       "                                 genre          director  \\\n",
       "0  Action and Adventure|Classics|Drama  William Friedkin   \n",
       "1    Drama|Science Fiction and Fantasy  David Cronenberg   \n",
       "2    Drama|Musical and Performing Arts    Allison Anders   \n",
       "3           Drama|Mystery and Suspense    Barry Levinson   \n",
       "4                        Drama|Romance    Rodney Bennett   \n",
       "\n",
       "                            writer  theater_date      dvd_date currency  \\\n",
       "0                   Ernest Tidyman   Oct 9, 1971  Sep 25, 2001      NaN   \n",
       "1     David Cronenberg|Don DeLillo  Aug 17, 2012   Jan 1, 2013        $   \n",
       "2                   Allison Anders  Sep 13, 1996  Apr 18, 2000      NaN   \n",
       "3  Paul Attanasio|Michael Crichton   Dec 9, 1994  Aug 27, 1997      NaN   \n",
       "4                     Giles Cooper           NaN           NaN      NaN   \n",
       "\n",
       "  box_office      runtime             studio  \n",
       "0        NaN  104 minutes                NaN  \n",
       "1    600,000  108 minutes  Entertainment One  \n",
       "2        NaN  116 minutes                NaN  \n",
       "3        NaN  128 minutes                NaN  \n",
       "4        NaN  200 minutes                NaN  "
      ]
     },
     "execution_count": 13,
     "metadata": {},
     "output_type": "execute_result"
    }
   ],
   "source": [
    "movie_info_tsv_df = pd.read_csv('data/rt.movie_info.tsv', sep='\\t', encoding='latin-1' )\n",
    "movie_info_tsv_df.head()\n"
   ]
  },
  {
   "cell_type": "code",
   "execution_count": 14,
   "metadata": {},
   "outputs": [
    {
     "data": {
      "text/plain": [
       "<bound method DataFrame.info of         id                                           synopsis rating  \\\n",
       "0        1  This gritty, fast-paced, and innovative police...      R   \n",
       "1        3  New York City, not-too-distant-future: Eric Pa...      R   \n",
       "2        5  Illeana Douglas delivers a superb performance ...      R   \n",
       "3        6  Michael Douglas runs afoul of a treacherous su...      R   \n",
       "4        7                                                NaN     NR   \n",
       "...    ...                                                ...    ...   \n",
       "1555  1996  Forget terrorists or hijackers -- there's a ha...      R   \n",
       "1556  1997  The popular Saturday Night Live sketch was exp...     PG   \n",
       "1557  1998  Based on a novel by Richard Powell, when the l...      G   \n",
       "1558  1999  The Sandlot is a coming-of-age story about a g...     PG   \n",
       "1559  2000  Suspended from the force, Paris cop Hubert is ...      R   \n",
       "\n",
       "                                                  genre            director  \\\n",
       "0                   Action and Adventure|Classics|Drama    William Friedkin   \n",
       "1                     Drama|Science Fiction and Fantasy    David Cronenberg   \n",
       "2                     Drama|Musical and Performing Arts      Allison Anders   \n",
       "3                            Drama|Mystery and Suspense      Barry Levinson   \n",
       "4                                         Drama|Romance      Rodney Bennett   \n",
       "...                                                 ...                 ...   \n",
       "1555   Action and Adventure|Horror|Mystery and Suspense                 NaN   \n",
       "1556                 Comedy|Science Fiction and Fantasy        Steve Barron   \n",
       "1557  Classics|Comedy|Drama|Musical and Performing Arts      Gordon Douglas   \n",
       "1558    Comedy|Drama|Kids and Family|Sports and Fitness  David Mickey Evans   \n",
       "1559  Action and Adventure|Art House and Internation...                 NaN   \n",
       "\n",
       "                                                writer  theater_date  \\\n",
       "0                                       Ernest Tidyman   Oct 9, 1971   \n",
       "1                         David Cronenberg|Don DeLillo  Aug 17, 2012   \n",
       "2                                       Allison Anders  Sep 13, 1996   \n",
       "3                      Paul Attanasio|Michael Crichton   Dec 9, 1994   \n",
       "4                                         Giles Cooper           NaN   \n",
       "...                                                ...           ...   \n",
       "1555                                               NaN  Aug 18, 2006   \n",
       "1556  Terry Turner|Tom Davis|Dan Aykroyd|Bonnie Turner  Jul 23, 1993   \n",
       "1557                                               NaN   Jan 1, 1962   \n",
       "1558                  David Mickey Evans|Robert Gunter   Apr 1, 1993   \n",
       "1559                                        Luc Besson  Sep 27, 2001   \n",
       "\n",
       "          dvd_date currency  box_office      runtime             studio  \n",
       "0     Sep 25, 2001      NaN         NaN  104 minutes                NaN  \n",
       "1      Jan 1, 2013        $     600,000  108 minutes  Entertainment One  \n",
       "2     Apr 18, 2000      NaN         NaN  116 minutes                NaN  \n",
       "3     Aug 27, 1997      NaN         NaN  128 minutes                NaN  \n",
       "4              NaN      NaN         NaN  200 minutes                NaN  \n",
       "...            ...      ...         ...          ...                ...  \n",
       "1555   Jan 2, 2007        $  33,886,034  106 minutes    New Line Cinema  \n",
       "1556  Apr 17, 2001      NaN         NaN   88 minutes  Paramount Vantage  \n",
       "1557  May 11, 2004      NaN         NaN  111 minutes                NaN  \n",
       "1558  Jan 29, 2002      NaN         NaN  101 minutes                NaN  \n",
       "1559  Feb 11, 2003      NaN         NaN   94 minutes  Columbia Pictures  \n",
       "\n",
       "[1560 rows x 12 columns]>"
      ]
     },
     "execution_count": 14,
     "metadata": {},
     "output_type": "execute_result"
    }
   ],
   "source": [
    "movie_info_tsv_df.info"
   ]
  },
  {
   "cell_type": "markdown",
   "metadata": {},
   "source": [
    "### 1.3 Check what the datasets are made of, and check on various information which is going to answer the Five key Questions"
   ]
  },
  {
   "cell_type": "markdown",
   "metadata": {},
   "source": [
    "* bom_movie_gross.csv: Contains box office gross information for movies (domestic gross, foreign gross, year).\n",
    "* tmdb.movies.csv: Includes details about movies like genre IDs and original titles.\n",
    "* tn.movie_budgets.csv: Provides movie production budgets.\n",
    "* rt.reviews.tsv: Contains movie review information (ratings, fresh/rotten scores).\n",
    "* rt.movie_info.tsv: Offers movie synopses, genres, directors, and box office information (runtime, currency)\n",
    "\n",
    "\n",
    "Inorder for us to answer the 5 Key questions we will need to first clean our data inorder to be able to answer and give insights to microsoft's new studio"
   ]
  },
  {
   "cell_type": "markdown",
   "metadata": {},
   "source": [
    "## 2. Data Cleaning\n",
    "\n",
    "> This includes removing,replacing Missing Values and also checking for outliers which can cause problems while analyzing your data, this is a key part in data analysis as it ensures preparation of the data."
   ]
  },
  {
   "cell_type": "markdown",
   "metadata": {},
   "source": [
    "#### 2.1 Data Cleaning `bom_movie_gross_df`"
   ]
  },
  {
   "cell_type": "code",
   "execution_count": 15,
   "metadata": {},
   "outputs": [
    {
     "data": {
      "text/plain": [
       "title                0\n",
       "studio               5\n",
       "domestic_gross      28\n",
       "foreign_gross     1350\n",
       "year                 0\n",
       "dtype: int64"
      ]
     },
     "execution_count": 15,
     "metadata": {},
     "output_type": "execute_result"
    }
   ],
   "source": [
    "#we check the sum of null values in bom_movie_gross_df\n",
    "bom_movie_gross_df.isnull().sum()"
   ]
  },
  {
   "cell_type": "markdown",
   "metadata": {},
   "source": [
    "The DataFrame seems well-structured with clear column names and appropriate data types for most columns. However, the presence of NaN values in 'foreign_gross' requires further attention during data cleaning.\n",
    "will also check if there's any duplicate values in our dataset"
   ]
  },
  {
   "cell_type": "code",
   "execution_count": 16,
   "metadata": {},
   "outputs": [
    {
     "data": {
      "text/plain": [
       "False    3387\n",
       "Name: count, dtype: int64"
      ]
     },
     "execution_count": 16,
     "metadata": {},
     "output_type": "execute_result"
    }
   ],
   "source": [
    "#check if there is any duplicates\n",
    "bom_movie_gross_df.duplicated().value_counts()"
   ]
  },
  {
   "cell_type": "code",
   "execution_count": 17,
   "metadata": {},
   "outputs": [
    {
     "data": {
      "text/plain": [
       "0.3985828166519043"
      ]
     },
     "execution_count": 17,
     "metadata": {},
     "output_type": "execute_result"
    }
   ],
   "source": [
    "# Analyze the Percentage of Missing Values\n",
    "bom_movie_gross_df['foreign_gross'].isnull().sum() / len(bom_movie_gross_df)\n",
    "\n",
    "\n"
   ]
  },
  {
   "cell_type": "markdown",
   "metadata": {},
   "source": [
    "Our analysis aims to understand movie success, and one factor we might consider is box office performance. This includes both domestic gross (earned within country) and foreign gross (earned internationally). However, our data has missing values in the 'foreign_gross' column. Since  foreign gross isn't our primary focus, we want to address the missing values without significantly impacting other analyses, and will use median imputation because: \n",
    " >>* The median is the value that falls exactly in the middle when the data is ordered from least to greatest. This makes it less susceptible to outliers compared to the mean (average), which can be skewed by very high or low values.\n",
    " >>* Filling missing values with the median provides a reasonable estimate without heavily influencing other features or relationships we might be analyzing."
   ]
  },
  {
   "cell_type": "code",
   "execution_count": 18,
   "metadata": {},
   "outputs": [
    {
     "data": {
      "text/plain": [
       "<bound method Series.info of 0       652000000\n",
       "1       691300000\n",
       "2       664300000\n",
       "3       535700000\n",
       "4       513900000\n",
       "          ...    \n",
       "3382          NaN\n",
       "3383          NaN\n",
       "3384          NaN\n",
       "3385          NaN\n",
       "3386          NaN\n",
       "Name: foreign_gross, Length: 3387, dtype: object>"
      ]
     },
     "execution_count": 18,
     "metadata": {},
     "output_type": "execute_result"
    }
   ],
   "source": [
    "#check if foreign_gross column contains numeric datatypes to enable us to calculate the median\n",
    "bom_movie_gross_df['foreign_gross'].info"
   ]
  },
  {
   "cell_type": "markdown",
   "metadata": {},
   "source": [
    "##### Converting to numeric datatype\n",
    "since it's class type object, we change the values to integers or float value inorder to do the median"
   ]
  },
  {
   "cell_type": "code",
   "execution_count": 19,
   "metadata": {},
   "outputs": [],
   "source": [
    "#we change the class object type to numeric using the pd.to_numeric function of pandas\n",
    "bom_movie_gross_df['foreign_gross']=  pd.to_numeric(bom_movie_gross_df['foreign_gross'],errors= 'coerce')"
   ]
  },
  {
   "cell_type": "markdown",
   "metadata": {},
   "source": [
    "Let's check if it has changed to numeric values to be able to work on the dataset like getting the median value"
   ]
  },
  {
   "cell_type": "code",
   "execution_count": 20,
   "metadata": {},
   "outputs": [
    {
     "data": {
      "text/plain": [
       "<bound method Series.info of 0       652000000.0\n",
       "1       691300000.0\n",
       "2       664300000.0\n",
       "3       535700000.0\n",
       "4       513900000.0\n",
       "           ...     \n",
       "3382            NaN\n",
       "3383            NaN\n",
       "3384            NaN\n",
       "3385            NaN\n",
       "3386            NaN\n",
       "Name: foreign_gross, Length: 3387, dtype: float64>"
      ]
     },
     "execution_count": 20,
     "metadata": {},
     "output_type": "execute_result"
    }
   ],
   "source": [
    "bom_movie_gross_df['foreign_gross'].info"
   ]
  },
  {
   "cell_type": "markdown",
   "metadata": {},
   "source": [
    " it has changed now let's proceed in filling the null values\n",
    "  but first we  need to calculate the median and use the fillna function to fill the missing values "
   ]
  },
  {
   "cell_type": "code",
   "execution_count": 21,
   "metadata": {},
   "outputs": [],
   "source": [
    "# Calculate the median of 'foreign_gross'\n",
    "median_gross= bom_movie_gross_df['foreign_gross'].median()\n",
    "median_gross\n",
    "# Replace missing values (NaN) in 'foreign_gross' with the median\n",
    "bom_movie_gross_df['foreign_gross'].fillna(median_gross, inplace=True)  "
   ]
  },
  {
   "cell_type": "code",
   "execution_count": 22,
   "metadata": {},
   "outputs": [
    {
     "data": {
      "text/plain": [
       "0"
      ]
     },
     "execution_count": 22,
     "metadata": {},
     "output_type": "execute_result"
    }
   ],
   "source": [
    "#check if the null values are replaced with the median \n",
    "bom_movie_gross_df['foreign_gross'].isnull().sum()"
   ]
  },
  {
   "cell_type": "code",
   "execution_count": 23,
   "metadata": {},
   "outputs": [
    {
     "data": {
      "text/plain": [
       "title              0\n",
       "studio             5\n",
       "domestic_gross    28\n",
       "foreign_gross      0\n",
       "year               0\n",
       "dtype: int64"
      ]
     },
     "execution_count": 23,
     "metadata": {},
     "output_type": "execute_result"
    }
   ],
   "source": [
    "bom_movie_gross_df.isnull().sum()"
   ]
  },
  {
   "cell_type": "markdown",
   "metadata": {},
   "source": [
    "Lets do the same process using the domestic gross column and studio to drop the values\n",
    "> for the domestic_gross column replace with the median value but first confirm if they are numeric values"
   ]
  },
  {
   "cell_type": "code",
   "execution_count": 24,
   "metadata": {},
   "outputs": [
    {
     "data": {
      "text/plain": [
       "<bound method Series.info of 0       415000000.0\n",
       "1       334200000.0\n",
       "2       296000000.0\n",
       "3       292600000.0\n",
       "4       238700000.0\n",
       "           ...     \n",
       "3382         6200.0\n",
       "3383         4800.0\n",
       "3384         2500.0\n",
       "3385         2400.0\n",
       "3386         1700.0\n",
       "Name: domestic_gross, Length: 3387, dtype: float64>"
      ]
     },
     "execution_count": 24,
     "metadata": {},
     "output_type": "execute_result"
    }
   ],
   "source": [
    "bom_movie_gross_df['domestic_gross'].info"
   ]
  },
  {
   "cell_type": "code",
   "execution_count": 25,
   "metadata": {},
   "outputs": [
    {
     "data": {
      "text/plain": [
       "0"
      ]
     },
     "execution_count": 25,
     "metadata": {},
     "output_type": "execute_result"
    }
   ],
   "source": [
    "#get the median value\n",
    "median_domestic_gross = bom_movie_gross_df['domestic_gross'].median()\n",
    "#replace the null values with the median value\n",
    "bom_movie_gross_df['domestic_gross'].fillna(median_domestic_gross, inplace=True )\n",
    "\n",
    "#check if the nullvalues have been replaced\n",
    "bom_movie_gross_df['domestic_gross'].isnull().sum()"
   ]
  },
  {
   "cell_type": "markdown",
   "metadata": {},
   "source": [
    "We good now to the studio column here we are going to use a different approach we are going to drop the null values "
   ]
  },
  {
   "cell_type": "code",
   "execution_count": 26,
   "metadata": {},
   "outputs": [
    {
     "data": {
      "text/plain": [
       "<bound method Series.info of 0               BV\n",
       "1               BV\n",
       "2               WB\n",
       "3               WB\n",
       "4             P/DW\n",
       "           ...    \n",
       "3382         Magn.\n",
       "3383            FM\n",
       "3384          Sony\n",
       "3385    Synergetic\n",
       "3386         Grav.\n",
       "Name: studio, Length: 3387, dtype: object>"
      ]
     },
     "execution_count": 26,
     "metadata": {},
     "output_type": "execute_result"
    }
   ],
   "source": [
    "bom_movie_gross_df['studio'].info"
   ]
  },
  {
   "cell_type": "code",
   "execution_count": 27,
   "metadata": {},
   "outputs": [
    {
     "data": {
      "text/plain": [
       "0"
      ]
     },
     "execution_count": 27,
     "metadata": {},
     "output_type": "execute_result"
    }
   ],
   "source": [
    "#Drop the null values\n",
    "bom_movie_gross_df.dropna(subset=['studio'], inplace=True)\n",
    "\n",
    "#check if the null values are dropped\n",
    "bom_movie_gross_df['studio'].isnull().sum()\n"
   ]
  },
  {
   "cell_type": "code",
   "execution_count": 28,
   "metadata": {},
   "outputs": [
    {
     "data": {
      "text/plain": [
       "title             0\n",
       "studio            0\n",
       "domestic_gross    0\n",
       "foreign_gross     0\n",
       "year              0\n",
       "dtype: int64"
      ]
     },
     "execution_count": 28,
     "metadata": {},
     "output_type": "execute_result"
    }
   ],
   "source": [
    "#confirm if our dataset is clean\n",
    "bom_movie_gross_df.isnull().sum()"
   ]
  },
  {
   "cell_type": "markdown",
   "metadata": {},
   "source": [
    "#### 2.2 Data Cleaning `tmdb_df`"
   ]
  },
  {
   "cell_type": "code",
   "execution_count": 29,
   "metadata": {},
   "outputs": [
    {
     "data": {
      "text/plain": [
       "genre_ids            0\n",
       "id                   0\n",
       "original_language    0\n",
       "original_title       0\n",
       "popularity           0\n",
       "release_date         0\n",
       "title                0\n",
       "vote_average         0\n",
       "vote_count           0\n",
       "dtype: int64"
      ]
     },
     "execution_count": 29,
     "metadata": {},
     "output_type": "execute_result"
    }
   ],
   "source": [
    "#check the sum of null values\n",
    "tmdb_df.isnull().sum()"
   ]
  },
  {
   "cell_type": "markdown",
   "metadata": {},
   "source": [
    "it seems our data is clean we proceed to the next datasets"
   ]
  },
  {
   "cell_type": "markdown",
   "metadata": {},
   "source": [
    "#### 2.3 Data Cleaning `tn_movie_df`"
   ]
  },
  {
   "cell_type": "code",
   "execution_count": 30,
   "metadata": {},
   "outputs": [
    {
     "data": {
      "text/plain": [
       "id                   0\n",
       "release_date         0\n",
       "movie                0\n",
       "production_budget    0\n",
       "domestic_gross       0\n",
       "worldwide_gross      0\n",
       "dtype: int64"
      ]
     },
     "execution_count": 30,
     "metadata": {},
     "output_type": "execute_result"
    }
   ],
   "source": [
    "tn_movie_df.isnull().sum()"
   ]
  },
  {
   "cell_type": "markdown",
   "metadata": {},
   "source": [
    "#### 2.4 Data Cleaning `reviews_tsv_df`"
   ]
  },
  {
   "cell_type": "code",
   "execution_count": 31,
   "metadata": {},
   "outputs": [
    {
     "data": {
      "text/plain": [
       "id                0\n",
       "review         5563\n",
       "rating        13517\n",
       "fresh             0\n",
       "critic         2722\n",
       "top_critic        0\n",
       "publisher       309\n",
       "date              0\n",
       "dtype: int64"
      ]
     },
     "execution_count": 31,
     "metadata": {},
     "output_type": "execute_result"
    }
   ],
   "source": [
    "reviews_tsv_df.isnull().sum()"
   ]
  },
  {
   "cell_type": "markdown",
   "metadata": {},
   "source": [
    "Our reviews_tsv_df seems it has some more null values will first check the percentage inorder to know what to do with the missing values without affecting our data"
   ]
  },
  {
   "cell_type": "code",
   "execution_count": 32,
   "metadata": {},
   "outputs": [
    {
     "name": "stdout",
     "output_type": "stream",
     "text": [
      "id             0.000000\n",
      "review        10.220091\n",
      "rating        24.832819\n",
      "fresh          0.000000\n",
      "critic         5.000735\n",
      "top_critic     0.000000\n",
      "publisher      0.567681\n",
      "date           0.000000\n",
      "dtype: float64\n"
     ]
    }
   ],
   "source": [
    "# Get the number of null values in each column\n",
    "null_counts = reviews_tsv_df.isnull().sum()\n",
    "\n",
    "# Get the total number of rows in the DataFrame\n",
    "total_rows = reviews_tsv_df.shape[0]\n",
    "\n",
    "# Calculate the percentage of null values for each column\n",
    "null_percentages = (null_counts / total_rows) * 100\n",
    "\n",
    "# Print the results (you can modify this to suit your needs)\n",
    "print(null_percentages)\n"
   ]
  },
  {
   "cell_type": "markdown",
   "metadata": {},
   "source": [
    "* critic, publisher: These columns have a slightly high percentage of missing values (around 5% and 0.5%). and since they are not crucial to our \n",
    "analysis we keep them  with the understanding that there's a small amount of missing data.  \n",
    "* Review, rating: These columns have a significant percentage of missing data (over 10% and 24%).  \n"
   ]
  },
  {
   "cell_type": "code",
   "execution_count": 33,
   "metadata": {},
   "outputs": [
    {
     "name": "stdout",
     "output_type": "stream",
     "text": [
      "<bound method Series.info of 0          3/5\n",
      "1          NaN\n",
      "2          NaN\n",
      "3          NaN\n",
      "4          NaN\n",
      "         ...  \n",
      "54427      NaN\n",
      "54428      1/5\n",
      "54429      2/5\n",
      "54430    2.5/5\n",
      "54431      3/5\n",
      "Name: rating, Length: 54432, dtype: object>\n"
     ]
    }
   ],
   "source": [
    "print(reviews_tsv_df['rating'].info)\n"
   ]
  },
  {
   "cell_type": "markdown",
   "metadata": {},
   "source": [
    "since our primary focus is in the ratings and reviews because of the null values will first change the rating object value to numeric value"
   ]
  },
  {
   "cell_type": "code",
   "execution_count": 34,
   "metadata": {},
   "outputs": [
    {
     "data": {
      "text/plain": [
       "<bound method Series.info of 0       NaN\n",
       "1       NaN\n",
       "2       NaN\n",
       "3       NaN\n",
       "4       NaN\n",
       "         ..\n",
       "54427   NaN\n",
       "54428   NaN\n",
       "54429   NaN\n",
       "54430   NaN\n",
       "54431   NaN\n",
       "Name: rating, Length: 54432, dtype: float64>"
      ]
     },
     "execution_count": 34,
     "metadata": {},
     "output_type": "execute_result"
    }
   ],
   "source": [
    "#we change the class object type to numeric using the pd.to_numeric function of pandas\n",
    "reviews_tsv_df['rating']=  pd.to_numeric(reviews_tsv_df['rating'],errors= 'coerce')\n",
    "reviews_tsv_df['rating'].info"
   ]
  },
  {
   "cell_type": "markdown",
   "metadata": {},
   "source": [
    "The correlation coefficient between the id and top_critic variables is very close to zero (0.00174). In simpler terms, this indicates that there is almost no linear relationship between the two variables.  \n"
   ]
  },
  {
   "cell_type": "markdown",
   "metadata": {},
   "source": [
    ">Will first investigate the reason for our missing data \n",
    ">> * Check for correlations between missing values:\n"
   ]
  },
  {
   "cell_type": "code",
   "execution_count": 35,
   "metadata": {},
   "outputs": [
    {
     "name": "stdout",
     "output_type": "stream",
     "text": [
      "                  id    rating  top_critic\n",
      "id          1.000000  0.005879    0.001740\n",
      "rating      0.005879  1.000000   -0.010103\n",
      "top_critic  0.001740 -0.010103    1.000000\n"
     ]
    }
   ],
   "source": [
    "numeric_df = reviews_tsv_df.select_dtypes(include=['int64', 'float64'])\n",
    "categorical_df = reviews_tsv_df.select_dtypes(include=['object'])\n",
    "\n",
    "\n",
    "# Now we can perform the correlation on the numerical DataFrame\n",
    "correlations = numeric_df.corr()\n",
    "\n",
    "# Print the correlations\n",
    "print(correlations)"
   ]
  },
  {
   "cell_type": "markdown",
   "metadata": {},
   "source": [
    "Weak Correlation Between id and Other Variables:\n",
    "\n",
    "The correlation between id and both rating (0.4271) and top_critic (-0.2402) is very weak. This indicates that there's practically no relationship between a data point's ID and its rating or the top critic's rating. As id is likely just an identifier for each data point, it wouldn't inherently hold any meaning related to the movie's rating or critic's review.  \n",
    "\n",
    "Weak Negative Correlation Between rating and top_critic:    \n",
    "\n",
    "There's a weak negative correlation between rating and top_critic (0.7751). This suggests a slight tendency for higher ratings to have slightly lower top critic scores, but the effect is very weak. It's important to note that a weak correlation doesn't necessarily imply causation. There could be other factors influencing both the ratings and top critic scores.  \n",
    "\n",
    "We are going to do imputation techniques to fill the null values"
   ]
  },
  {
   "cell_type": "code",
   "execution_count": 36,
   "metadata": {},
   "outputs": [
    {
     "data": {
      "text/plain": [
       "0"
      ]
     },
     "execution_count": 36,
     "metadata": {},
     "output_type": "execute_result"
    }
   ],
   "source": [
    "#get the median value\n",
    "median_reviews = reviews_tsv_df['rating'].median()\n",
    "#replace the null values with the median value\n",
    "reviews_tsv_df['rating'].fillna(median_reviews, inplace=True )\n",
    "\n",
    "#check if the nullvalues have been replaced\n",
    "reviews_tsv_df['rating'].isnull().sum()"
   ]
  },
  {
   "cell_type": "code",
   "execution_count": 37,
   "metadata": {},
   "outputs": [
    {
     "data": {
      "text/plain": [
       "<bound method Series.info of 0        A distinctly gallows take on contemporary fina...\n",
       "1        It's an allegory in search of a meaning that n...\n",
       "2        ... life lived in a bubble in financial dealin...\n",
       "3        Continuing along a line introduced in last yea...\n",
       "4                   ... a perverse twist on neorealism... \n",
       "                               ...                        \n",
       "54427    The real charm of this trifle is the deadpan c...\n",
       "54428                                                  NaN\n",
       "54429                                                  NaN\n",
       "54430                                                  NaN\n",
       "54431                                                  NaN\n",
       "Name: review, Length: 54432, dtype: object>"
      ]
     },
     "execution_count": 37,
     "metadata": {},
     "output_type": "execute_result"
    }
   ],
   "source": [
    "reviews_tsv_df['review'].info"
   ]
  },
  {
   "cell_type": "markdown",
   "metadata": {},
   "source": [
    "For the review part we are not so much interested with so we are going to live it that way  \n",
    "let's confirm our required data is cleaned"
   ]
  },
  {
   "cell_type": "code",
   "execution_count": 38,
   "metadata": {},
   "outputs": [
    {
     "data": {
      "text/plain": [
       "id               0\n",
       "review        5563\n",
       "rating           0\n",
       "fresh            0\n",
       "critic        2722\n",
       "top_critic       0\n",
       "publisher      309\n",
       "date             0\n",
       "dtype: int64"
      ]
     },
     "execution_count": 38,
     "metadata": {},
     "output_type": "execute_result"
    }
   ],
   "source": [
    "reviews_tsv_df.isnull().sum()"
   ]
  },
  {
   "cell_type": "markdown",
   "metadata": {},
   "source": [
    "our rating column in the DataFrame is cleaned we can now proceed to the next Dataframe"
   ]
  },
  {
   "cell_type": "markdown",
   "metadata": {},
   "source": [
    "#### 2.5 Data Cleaning `movie_info_tsv_df`"
   ]
  },
  {
   "cell_type": "code",
   "execution_count": 39,
   "metadata": {},
   "outputs": [
    {
     "data": {
      "text/plain": [
       "id                 0\n",
       "synopsis          62\n",
       "rating             3\n",
       "genre              8\n",
       "director         199\n",
       "writer           449\n",
       "theater_date     359\n",
       "dvd_date         359\n",
       "currency        1220\n",
       "box_office      1220\n",
       "runtime           30\n",
       "studio          1066\n",
       "dtype: int64"
      ]
     },
     "execution_count": 39,
     "metadata": {},
     "output_type": "execute_result"
    }
   ],
   "source": [
    "#we check the sum of the null values\n",
    "movie_info_tsv_df.isnull().sum()"
   ]
  },
  {
   "cell_type": "markdown",
   "metadata": {},
   "source": [
    "Our movie_info_tsv_df seems it has some  null values will first check the percentage inorder to know what to do with the missing values without affecting our data"
   ]
  },
  {
   "cell_type": "code",
   "execution_count": 40,
   "metadata": {},
   "outputs": [
    {
     "name": "stdout",
     "output_type": "stream",
     "text": [
      "id               0.000000\n",
      "synopsis         3.974359\n",
      "rating           0.192308\n",
      "genre            0.512821\n",
      "director        12.756410\n",
      "writer          28.782051\n",
      "theater_date    23.012821\n",
      "dvd_date        23.012821\n",
      "currency        78.205128\n",
      "box_office      78.205128\n",
      "runtime          1.923077\n",
      "studio          68.333333\n",
      "dtype: float64\n"
     ]
    }
   ],
   "source": [
    "# Get the number of null values in each column\n",
    "null_summation = movie_info_tsv_df.isnull().sum()\n",
    "\n",
    "# Get the total number of rows in the DataFrame\n",
    "total_rows = movie_info_tsv_df.shape[0]\n",
    "\n",
    "# Calculate the percentage of null values for each column\n",
    "null_percentages = (null_summation / total_rows) * 100\n",
    "\n",
    "# Print the results (you can modify this to suit your needs)\n",
    "print(null_percentages)"
   ]
  },
  {
   "cell_type": "markdown",
   "metadata": {},
   "source": [
    "* synopsis (3.97%) & rating (0.19%): These have a very low percentage of missing values. We can consider filling them using appropriate imputation techniques or simply dropping them but we are going to do more analysis and see what we are going to do with this missing values.\n",
    "* genre (5.13%): this is a categorical type of data we can drop the values.\n",
    "* director (12.76%): Depending on the importance of director information,  we will fill null values with unknown director so that we don't affect important data\n",
    "* writer (28.78%): Similar to director\n",
    "* currency (78.21%) & box_office (78.21%): These columns likely go hand-in-hand. Since the missing value percentage is very high, we consider dropping them.\n",
    "* will begin by dropping the currency and box_office"
   ]
  },
  {
   "cell_type": "code",
   "execution_count": 41,
   "metadata": {},
   "outputs": [
    {
     "name": "stdout",
     "output_type": "stream",
     "text": [
      "Index(['id', 'synopsis', 'rating', 'genre', 'director', 'writer',\n",
      "       'theater_date', 'dvd_date', 'runtime', 'studio'],\n",
      "      dtype='object')\n"
     ]
    }
   ],
   "source": [
    "# we dropped the currency and box office columns\n",
    "\n",
    "movie_info_tsv_df = movie_info_tsv_df.drop(columns=['currency', 'box_office',])\n",
    "\n",
    "# Print the modified DataFrame to see the dropped columns\n",
    "print(movie_info_tsv_df.columns)\n"
   ]
  },
  {
   "cell_type": "code",
   "execution_count": 42,
   "metadata": {},
   "outputs": [
    {
     "name": "stdout",
     "output_type": "stream",
     "text": [
      "Index(['id', 'synopsis', 'rating', 'genre', 'director', 'writer',\n",
      "       'theater_date', 'dvd_date', 'runtime'],\n",
      "      dtype='object')\n"
     ]
    }
   ],
   "source": [
    "# we dropped the studio column since we are not so interested in  it\n",
    "\n",
    "movie_info_tsv_df = movie_info_tsv_df.drop(columns=['studio'])\n",
    "\n",
    "# Print the modified DataFrame to see the dropped columns\n",
    "print(movie_info_tsv_df.columns)\n"
   ]
  },
  {
   "cell_type": "code",
   "execution_count": 43,
   "metadata": {},
   "outputs": [
    {
     "data": {
      "text/plain": [
       "<bound method DataFrame.info of         id                                           synopsis rating  \\\n",
       "0        1  This gritty, fast-paced, and innovative police...      R   \n",
       "1        3  New York City, not-too-distant-future: Eric Pa...      R   \n",
       "2        5  Illeana Douglas delivers a superb performance ...      R   \n",
       "3        6  Michael Douglas runs afoul of a treacherous su...      R   \n",
       "5        8  The year is 1942. As the Allies unite overseas...     PG   \n",
       "...    ...                                                ...    ...   \n",
       "1555  1996  Forget terrorists or hijackers -- there's a ha...      R   \n",
       "1556  1997  The popular Saturday Night Live sketch was exp...     PG   \n",
       "1557  1998  Based on a novel by Richard Powell, when the l...      G   \n",
       "1558  1999  The Sandlot is a coming-of-age story about a g...     PG   \n",
       "1559  2000  Suspended from the force, Paris cop Hubert is ...      R   \n",
       "\n",
       "                                                  genre            director  \\\n",
       "0                   Action and Adventure|Classics|Drama    William Friedkin   \n",
       "1                     Drama|Science Fiction and Fantasy    David Cronenberg   \n",
       "2                     Drama|Musical and Performing Arts      Allison Anders   \n",
       "3                            Drama|Mystery and Suspense      Barry Levinson   \n",
       "5                                 Drama|Kids and Family         Jay Russell   \n",
       "...                                                 ...                 ...   \n",
       "1555   Action and Adventure|Horror|Mystery and Suspense                 NaN   \n",
       "1556                 Comedy|Science Fiction and Fantasy        Steve Barron   \n",
       "1557  Classics|Comedy|Drama|Musical and Performing Arts      Gordon Douglas   \n",
       "1558    Comedy|Drama|Kids and Family|Sports and Fitness  David Mickey Evans   \n",
       "1559  Action and Adventure|Art House and Internation...                 NaN   \n",
       "\n",
       "                                                writer  theater_date  \\\n",
       "0                                       Ernest Tidyman   Oct 9, 1971   \n",
       "1                         David Cronenberg|Don DeLillo  Aug 17, 2012   \n",
       "2                                       Allison Anders  Sep 13, 1996   \n",
       "3                      Paul Attanasio|Michael Crichton   Dec 9, 1994   \n",
       "5                                      Gail Gilchriest   Mar 3, 2000   \n",
       "...                                                ...           ...   \n",
       "1555                                               NaN  Aug 18, 2006   \n",
       "1556  Terry Turner|Tom Davis|Dan Aykroyd|Bonnie Turner  Jul 23, 1993   \n",
       "1557                                               NaN   Jan 1, 1962   \n",
       "1558                  David Mickey Evans|Robert Gunter   Apr 1, 1993   \n",
       "1559                                        Luc Besson  Sep 27, 2001   \n",
       "\n",
       "          dvd_date      runtime  \n",
       "0     Sep 25, 2001  104 minutes  \n",
       "1      Jan 1, 2013  108 minutes  \n",
       "2     Apr 18, 2000  116 minutes  \n",
       "3     Aug 27, 1997  128 minutes  \n",
       "5     Jul 11, 2000   95 minutes  \n",
       "...            ...          ...  \n",
       "1555   Jan 2, 2007  106 minutes  \n",
       "1556  Apr 17, 2001   88 minutes  \n",
       "1557  May 11, 2004  111 minutes  \n",
       "1558  Jan 29, 2002  101 minutes  \n",
       "1559  Feb 11, 2003   94 minutes  \n",
       "\n",
       "[1498 rows x 9 columns]>"
      ]
     },
     "execution_count": 43,
     "metadata": {},
     "output_type": "execute_result"
    }
   ],
   "source": [
    "\n",
    "movie_info_tsv_df = movie_info_tsv_df.dropna(subset=['synopsis', 'rating'])\n",
    "\n",
    "# Print the modified DataFrame to see the rows without null values\n",
    "movie_info_tsv_df.info\n"
   ]
  },
  {
   "cell_type": "code",
   "execution_count": 44,
   "metadata": {},
   "outputs": [
    {
     "name": "stdout",
     "output_type": "stream",
     "text": [
      "id                0\n",
      "synopsis          0\n",
      "rating            0\n",
      "genre             0\n",
      "director        174\n",
      "writer          398\n",
      "theater_date    297\n",
      "dvd_date        297\n",
      "runtime          13\n",
      "dtype: int64\n"
     ]
    }
   ],
   "source": [
    "\n",
    "movie_info_tsv_df = movie_info_tsv_df.dropna(subset=['genre'])\n",
    "\n",
    "# Print the modified DataFrame to see the rows without null values\n",
    "print(movie_info_tsv_df.isnull().sum())\n"
   ]
  },
  {
   "cell_type": "code",
   "execution_count": 45,
   "metadata": {},
   "outputs": [
    {
     "name": "stderr",
     "output_type": "stream",
     "text": [
      "C:\\Users\\user\\AppData\\Local\\Temp\\ipykernel_16092\\3731322506.py:3: SettingWithCopyWarning: \n",
      "A value is trying to be set on a copy of a slice from a DataFrame.\n",
      "Try using .loc[row_indexer,col_indexer] = value instead\n",
      "\n",
      "See the caveats in the documentation: https://pandas.pydata.org/pandas-docs/stable/user_guide/indexing.html#returning-a-view-versus-a-copy\n",
      "  movie_info_tsv_df['director'] = movie_info_tsv_df['director'].fillna('unknown director')\n"
     ]
    },
    {
     "data": {
      "text/plain": [
       "id                0\n",
       "synopsis          0\n",
       "rating            0\n",
       "genre             0\n",
       "director          0\n",
       "writer          398\n",
       "theater_date    297\n",
       "dvd_date        297\n",
       "runtime          13\n",
       "dtype: int64"
      ]
     },
     "execution_count": 45,
     "metadata": {},
     "output_type": "execute_result"
    }
   ],
   "source": [
    "# we can consider adding the value unkwown director and writer to the missing values of this\n",
    "\n",
    "movie_info_tsv_df['director'] = movie_info_tsv_df['director'].fillna('unknown director')\n",
    "\n",
    "# Print the modified DataFrame to see the filled null values\n",
    "movie_info_tsv_df.isnull().sum()\n"
   ]
  },
  {
   "cell_type": "code",
   "execution_count": 46,
   "metadata": {},
   "outputs": [
    {
     "name": "stderr",
     "output_type": "stream",
     "text": [
      "C:\\Users\\user\\AppData\\Local\\Temp\\ipykernel_16092\\3119917843.py:3: SettingWithCopyWarning: \n",
      "A value is trying to be set on a copy of a slice from a DataFrame.\n",
      "Try using .loc[row_indexer,col_indexer] = value instead\n",
      "\n",
      "See the caveats in the documentation: https://pandas.pydata.org/pandas-docs/stable/user_guide/indexing.html#returning-a-view-versus-a-copy\n",
      "  movie_info_tsv_df['writer'] = movie_info_tsv_df['director'].fillna('unknown writer')\n"
     ]
    },
    {
     "data": {
      "text/plain": [
       "id                0\n",
       "synopsis          0\n",
       "rating            0\n",
       "genre             0\n",
       "director          0\n",
       "writer            0\n",
       "theater_date    297\n",
       "dvd_date        297\n",
       "runtime          13\n",
       "dtype: int64"
      ]
     },
     "execution_count": 46,
     "metadata": {},
     "output_type": "execute_result"
    }
   ],
   "source": [
    "# we can consider adding the value unkwown director and writer to the missing values of this\n",
    "\n",
    "movie_info_tsv_df['writer'] = movie_info_tsv_df['director'].fillna('unknown writer')\n",
    "\n",
    "# Print the modified DataFrame to see the filled null values\n",
    "movie_info_tsv_df.isnull().sum()\n"
   ]
  },
  {
   "cell_type": "markdown",
   "metadata": {},
   "source": [
    "### 3. EXPLORATORY DATA ANALYSIS"
   ]
  },
  {
   "cell_type": "markdown",
   "metadata": {},
   "source": [
    "* Descriptive Statistics \n",
    "* Data Visualization"
   ]
  },
  {
   "cell_type": "markdown",
   "metadata": {},
   "source": [
    "#### 3.1.1 Descriptive statistics for `bom_movie_gross_df`"
   ]
  },
  {
   "cell_type": "markdown",
   "metadata": {},
   "source": [
    "We calculate summary statistics (mean, median, standard deviation) for numerical variables like box office gross, budget, etc."
   ]
  },
  {
   "cell_type": "code",
   "execution_count": 47,
   "metadata": {},
   "outputs": [
    {
     "name": "stdout",
     "output_type": "stream",
     "text": [
      "Mean domestic gross: 28561064.15730337\n",
      "Median domestic gross: 1400000.0\n",
      "Standard deviation of domestic gross: 66791614.60103198\n",
      "Mean foreign gross: 52623864.15819042\n",
      "Median foreign gross: 18900000.0\n",
      "Standard deviation of foreign gross: 110074384.7187505\n"
     ]
    }
   ],
   "source": [
    "box_office_gross_mean = bom_movie_gross_df['domestic_gross'].mean()\n",
    "box_office_gross_median = bom_movie_gross_df['domestic_gross'].median()\n",
    "box_office_gross_std = bom_movie_gross_df['domestic_gross'].std()\n",
    "box_office_gross_mean_1 = bom_movie_gross_df['foreign_gross'].mean()\n",
    "box_office_gross_median_1 = bom_movie_gross_df['foreign_gross'].median()\n",
    "box_office_gross_std_1 = bom_movie_gross_df['foreign_gross'].std()\n",
    "\n",
    "print(\"Mean domestic gross:\", box_office_gross_mean)\n",
    "print(\"Median domestic gross:\", box_office_gross_median)\n",
    "print(\"Standard deviation of domestic gross:\", box_office_gross_std)\n",
    "\n",
    "print(\"Mean foreign gross:\", box_office_gross_mean_1)\n",
    "print(\"Median foreign gross:\", box_office_gross_median_1)\n",
    "print(\"Standard deviation of foreign gross:\", box_office_gross_std_1)\n",
    "\n"
   ]
  },
  {
   "cell_type": "markdown",
   "metadata": {},
   "source": [
    "##### Domestic gross:\n",
    "* The average domestic gross is significantly higher than the median domestic gross. This indicates a positive skew in the distribution, meaning there are likely a few movies with very high domestic gross that are pulling the mean upwards.\n",
    "* The high standard deviation (over 66 million) further confirms this large spread in domestic gross values.\n",
    "* In simpler terms, most movies tend to have a domestic gross below the average (around 14 million), while a smaller number of movies have much higher domestic gross figures.  \n",
    "\n",
    "##### Foreign gross:\n",
    "We observe a similar pattern for foreign gross with a higher mean than median and a large standard deviation. This suggests a positive skew in the distribution as well, where a few movies have very high foreign gross compared to the majority.\n",
    "\n",
    "The data likely represents a mix of movies with varying levels of commercial success. There are blockbuster movies with very high domestic and foreign gross, alongside movies with more modest box office performance.\n"
   ]
  },
  {
   "cell_type": "markdown",
   "metadata": {},
   "source": [
    "We can try to explore visualizing the distribution of domestic and foreign gross using histograms or boxplots to get a clearer picture of the data spread. Which might be helpful to investigate the movies with the highest domestic and foreign gross to understand any outliers or specific genres that tend to perform exceptionally well."
   ]
  },
  {
   "cell_type": "code",
   "execution_count": 48,
   "metadata": {},
   "outputs": [
    {
     "name": "stdout",
     "output_type": "stream",
     "text": [
      "Interquartile Range (IQR) for domestic gross: 27552000.0\n",
      "Firstquartile Range for domestic gross: 123000.0\n",
      "Thirdquartile Range for domestic gross: 27675000.0\n",
      "Outliers in domestic gross:\n",
      "                                            title   studio  domestic_gross  \\\n",
      "0                                     Toy Story 3       BV     415000000.0   \n",
      "1                      Alice in Wonderland (2010)       BV     334200000.0   \n",
      "2     Harry Potter and the Deathly Hallows Part 1       WB     296000000.0   \n",
      "3                                       Inception       WB     292600000.0   \n",
      "4                             Shrek Forever After     P/DW     238700000.0   \n",
      "...                                           ...      ...             ...   \n",
      "3123                                     The Mule       WB     103800000.0   \n",
      "3128                              The First Purge     Uni.      69500000.0   \n",
      "3129                            A Wrinkle in Time       BV     100500000.0   \n",
      "3133                                   Game Night  WB (NL)      69200000.0   \n",
      "3136                          Night School (2018)     Uni.      77300000.0   \n",
      "\n",
      "      foreign_gross  year  \n",
      "0       652000000.0  2010  \n",
      "1       691300000.0  2010  \n",
      "2       664300000.0  2010  \n",
      "3       535700000.0  2010  \n",
      "4       513900000.0  2010  \n",
      "...             ...   ...  \n",
      "3123     68700000.0  2018  \n",
      "3128     67500000.0  2018  \n",
      "3129     32200000.0  2018  \n",
      "3133     48500000.0  2018  \n",
      "3136     25800000.0  2018  \n",
      "\n",
      "[408 rows x 5 columns]\n"
     ]
    }
   ],
   "source": [
    "\n",
    "\n",
    "# Calculate quartiles\n",
    "Q1 = bom_movie_gross_df['domestic_gross'].quantile(0.25)\n",
    "Q3 = bom_movie_gross_df['domestic_gross'].quantile(0.75)\n",
    "\n",
    "# Calculate IQR\n",
    "IQR = Q3 - Q1\n",
    "\n",
    "lower_whisker = Q1 - 1.5 * IQR\n",
    "upper_whisker = Q3 + 1.5 * IQR\n",
    "\n",
    "# Identify outliers\n",
    "outliers = bom_movie_gross_df[(bom_movie_gross_df['domestic_gross'] < lower_whisker) | (bom_movie_gross_df['domestic_gross'] > upper_whisker)]\n",
    "\n",
    "\n",
    "\n",
    "print(\"Interquartile Range (IQR) for domestic gross:\", IQR)\n",
    "print(\"Firstquartile Range for domestic gross:\", Q1)\n",
    "print(\"Thirdquartile Range for domestic gross:\", Q3)\n",
    "\n",
    "# Print outliers (consider using .shape attribute to get the count)\n",
    "print(\"Outliers in domestic gross:\")\n",
    "print(outliers)\n"
   ]
  },
  {
   "cell_type": "markdown",
   "metadata": {},
   "source": [
    "##### Outliers:\n",
    "* The IQR successfully identified several movies with very high domestic gross as outliers. These include titles like \"Toy Story 3,\" \"Alice in Wonderland (2010),\" and \"Harry Potter and the Deathly Hallows Part 1.\"\n",
    "\n",
    "* The large difference between the first quartile (Q1: 123,000) and the third quartile (Q3: 27,675,000) suggests a positive skew in the distribution of domestic gross. This confirms what we observed earlier from the summary statistics (mean being higher than the median).\n",
    "\n",
    "* When analyzing other questions (e.g., budget vs. box office, genre performance), it's crucial to consider this skewed distribution. Focusing solely on average domestic gross might not be the best indicator of a movie's typical financial performance due to the presence of outliers.\n"
   ]
  },
  {
   "cell_type": "markdown",
   "metadata": {},
   "source": [
    "lets filter the outliers below  "
   ]
  },
  {
   "cell_type": "code",
   "execution_count": 49,
   "metadata": {},
   "outputs": [],
   "source": [
    "# Filter out outliers\n",
    "bom_movie_gross_df = bom_movie_gross_df[(bom_movie_gross_df['domestic_gross'] >= lower_whisker) & (bom_movie_gross_df['domestic_gross'] <= upper_whisker)]"
   ]
  },
  {
   "cell_type": "code",
   "execution_count": 50,
   "metadata": {},
   "outputs": [
    {
     "data": {
      "image/png": "[encoded data removed]",
      "text/plain": [
       "<Figure size 800x600 with 1 Axes>"
      ]
     },
     "metadata": {},
     "output_type": "display_data"
    }
   ],
   "source": [
    "\n",
    "\n",
    "fig, ax = plt.subplots(figsize=(8, 6))\n",
    "ax.boxplot(bom_movie_gross_df['domestic_gross'])\n",
    "ax.set_xlabel('Domestic Gross')\n",
    "ax.set_ylabel('Value')\n",
    "ax.set_title('Domestic Gross Distribution (After IQR Filtering)')\n",
    "plt.show()\n"
   ]
  },
  {
   "cell_type": "markdown",
   "metadata": {},
   "source": [
    "\n",
    "#### Year-wise Performance for Domestic Gross and Foreign gross  :\n",
    ">> Will group the data by release year and calculate the total domestic and foreign gross for each year.\n",
    ">> Use a bar chart or line chart to see how gross earnings have trended over the years. This might reveal if there are particularly strong or weak performing years."
   ]
  },
  {
   "cell_type": "code",
   "execution_count": 51,
   "metadata": {},
   "outputs": [
    {
     "data": {
      "image/png": "[encoded data removed]",
      "text/plain": [
       "<Figure size 1200x600 with 1 Axes>"
      ]
     },
     "metadata": {},
     "output_type": "display_data"
    }
   ],
   "source": [
    "# Group data by year and calculate total gross\n",
    "year_wise_gross = bom_movie_gross_df.groupby('year')[['domestic_gross', 'foreign_gross']].sum()\n",
    "\n",
    "# Line chart for total gross over years\n",
    "fig, ax = plt.subplots(figsize=(12, 6))\n",
    "ax.plot(year_wise_gross.index, year_wise_gross['domestic_gross'], label='Domestic Gross')\n",
    "ax.plot(year_wise_gross.index, year_wise_gross['foreign_gross'], label='Foreign Gross')\n",
    "ax.set_xlabel('Release Year')\n",
    "ax.set_ylabel('Total Gross')\n",
    "ax.set_title('Total Gross Earnings by Release Year')\n",
    "ax.legend()\n",
    "  # Rotate x-axis labels for better readability\n",
    "\n",
    "plt.show()\n"
   ]
  },
  {
   "cell_type": "markdown",
   "metadata": {},
   "source": [
    "* Overall, total gross earnings seem to be increasing over the years from 2010 to 2018\n",
    "* foreign gross earnings appear to be consistently higher than domestic gross earnings over this period.\n",
    "* The steeper slope of the blue line suggests that foreign gross earnings might be growing faster than domestic gross earnings over time.\n"
   ]
  },
  {
   "cell_type": "markdown",
   "metadata": {},
   "source": [
    "we can check if there is any outliers in our data we can calculate interquatile range"
   ]
  },
  {
   "cell_type": "code",
   "execution_count": 52,
   "metadata": {},
   "outputs": [],
   "source": [
    "def get_outliers_by_year(data, year_col, gross_col):\n",
    "    outliers_by_year = {}\n",
    "    for year in data[year_col].unique():\n",
    "      yearly_data = data.loc[data[year_col] == year]\n",
    "      Q1 = yearly_data[gross_col].quantile(0.25)\n",
    "      Q3 = yearly_data[gross_col].quantile(0.75)\n",
    "      IQR = Q3 - Q1\n",
    "      lower_whisker = Q1 - 1.5 * IQR\n",
    "      upper_whisker = Q3 + 1.5 * IQR\n",
    "      outliers = yearly_data[(yearly_data[gross_col] < lower_whisker) | (yearly_data[gross_col] > upper_whisker)]\n",
    "      outliers_by_year[year] = outliers.index.tolist()\n",
    "    return outliers_by_year\n",
    "\n",
    "\n"
   ]
  },
  {
   "cell_type": "markdown",
   "metadata": {},
   "source": [
    "### QUESTION 1:  Analyze the distribution of production budgets and domestic box office gross across all movies. \n",
    "\n",
    "   "
   ]
  },
  {
   "cell_type": "markdown",
   "metadata": {},
   "source": [
    "##### Expected Visualization:\n",
    "\n",
    "* The visualization will consist of two separate histograms:\n",
    "\n",
    "* Production Budget Histogram: This histogram will depict the frequency distribution of production budgets across all movies in the data. The x-axis will represent different budget ranges (bins), and the y-axis will represent the number of movies within each budget range.\n",
    "* Domestic Box Office Gross Histogram: Similar to the first histogram, this one will show the frequency distribution of domestic box office gross for all movies\n",
    "##### Data to Check:\n",
    "* Linked Data: Ensure you have linked the DataFrames (tn_movie_df and tmdb_df) using a suitable approach.\n",
    "* Separate Histograms: Use Matplotlib or Seaborn to create separate histograms. You can adjust the number of bins (budget ranges) for better visualization.\n",
    "\n"
   ]
  },
  {
   "cell_type": "code",
   "execution_count": 74,
   "metadata": {},
   "outputs": [
    {
     "data": {
      "text/plain": [
       "<bound method NDFrame.head of                             title      studio  domestic_gross  foreign_gross  \\\n",
       "21       Resident Evil: Afterlife        SGem      60100000.0    240100000.0   \n",
       "25                    The Tourist        Sony      67600000.0    210700000.0   \n",
       "30             Gulliver's Travels         Fox      42800000.0    194600000.0   \n",
       "34      The Sorcerer's Apprentice          BV      63200000.0    152100000.0   \n",
       "44                    Step Up 3-D          BV      42400000.0    116900000.0   \n",
       "...                           ...         ...             ...            ...   \n",
       "3382                    The Quake       Magn.          6200.0     18900000.0   \n",
       "3383  Edward II (2018 re-release)          FM          4800.0     18900000.0   \n",
       "3384                     El Pacto        Sony          2500.0     18900000.0   \n",
       "3385                     The Swan  Synergetic          2400.0     18900000.0   \n",
       "3386            An Actor Prepares       Grav.          1700.0     18900000.0   \n",
       "\n",
       "      year  \n",
       "21    2010  \n",
       "25    2010  \n",
       "30    2010  \n",
       "34    2010  \n",
       "44    2010  \n",
       "...    ...  \n",
       "3382  2018  \n",
       "3383  2018  \n",
       "3384  2018  \n",
       "3385  2018  \n",
       "3386  2018  \n",
       "\n",
       "[2974 rows x 5 columns]>"
      ]
     },
     "execution_count": 74,
     "metadata": {},
     "output_type": "execute_result"
    }
   ],
   "source": [
    "bom_movie_gross_df.head"
   ]
  },
  {
   "cell_type": "code",
   "execution_count": 75,
   "metadata": {},
   "outputs": [
    {
     "data": {
      "text/plain": [
       "0           12.0\n",
       "0           14.0\n",
       "0        10751.0\n",
       "1           14.0\n",
       "1           12.0\n",
       "          ...   \n",
       "26515    10751.0\n",
       "26515       12.0\n",
       "26515       28.0\n",
       "26516       53.0\n",
       "26516       27.0\n",
       "Name: genre_ids, Length: 47834, dtype: float64"
      ]
     },
     "execution_count": 75,
     "metadata": {},
     "output_type": "execute_result"
    }
   ],
   "source": [
    "tmdb_df['genre_ids']"
   ]
  },
  {
   "cell_type": "markdown",
   "metadata": {},
   "source": [
    "Will have to merge inorder to check the genre_ids with the domestic gross, but our genre_ids is made of strings made of lists so we first change the string lists to lists then explode using pandas function explode"
   ]
  },
  {
   "cell_type": "code",
   "execution_count": 76,
   "metadata": {},
   "outputs": [
    {
     "data": {
      "text/plain": [
       "dtype('float64')"
      ]
     },
     "execution_count": 76,
     "metadata": {},
     "output_type": "execute_result"
    }
   ],
   "source": [
    "\n",
    "tmdb_df = tmdb_df.explode('genre_ids')\n",
    "\n",
    "# Print the first few rows of the exploded DataFrame\n",
    "tmdb_df['genre_ids'].dtype\n"
   ]
  },
  {
   "cell_type": "code",
   "execution_count": 77,
   "metadata": {},
   "outputs": [
    {
     "ename": "ValueError",
     "evalue": "malformed node or string: 12.0",
     "output_type": "error",
     "traceback": [
      "\u001b[1;31m---------------------------------------------------------------------------\u001b[0m",
      "\u001b[1;31mValueError\u001b[0m                                Traceback (most recent call last)",
      "Cell \u001b[1;32mIn[77], line 3\u001b[0m\n\u001b[0;32m      1\u001b[0m \u001b[38;5;28;01mimport\u001b[39;00m \u001b[38;5;21;01mast\u001b[39;00m\n\u001b[0;32m      2\u001b[0m \u001b[38;5;66;03m# Convert genre_ids to lists using apply and ast.literal_eval (assuming valid JSON format)\u001b[39;00m\n\u001b[1;32m----> 3\u001b[0m tmdb_df[\u001b[38;5;124m'\u001b[39m\u001b[38;5;124mgenre_ids\u001b[39m\u001b[38;5;124m'\u001b[39m] \u001b[38;5;241m=\u001b[39m tmdb_df[\u001b[38;5;124m'\u001b[39m\u001b[38;5;124mgenre_ids\u001b[39m\u001b[38;5;124m'\u001b[39m]\u001b[38;5;241m.\u001b[39mapply(\u001b[38;5;28;01mlambda\u001b[39;00m x: ast\u001b[38;5;241m.\u001b[39mliteral_eval(x))\n\u001b[0;32m      4\u001b[0m \u001b[38;5;66;03m# Explode the genre_ids column (now containing lists)\u001b[39;00m\n\u001b[0;32m      5\u001b[0m tmdb_df \u001b[38;5;241m=\u001b[39m tmdb_df\u001b[38;5;241m.\u001b[39mexplode(\u001b[38;5;124m'\u001b[39m\u001b[38;5;124mgenre_ids\u001b[39m\u001b[38;5;124m'\u001b[39m)\n",
      "File \u001b[1;32mc:\\Users\\user\\anaconda3\\Lib\\site-packages\\pandas\\core\\series.py:4764\u001b[0m, in \u001b[0;36mSeries.apply\u001b[1;34m(self, func, convert_dtype, args, by_row, **kwargs)\u001b[0m\n\u001b[0;32m   4629\u001b[0m \u001b[38;5;28;01mdef\u001b[39;00m \u001b[38;5;21mapply\u001b[39m(\n\u001b[0;32m   4630\u001b[0m     \u001b[38;5;28mself\u001b[39m,\n\u001b[0;32m   4631\u001b[0m     func: AggFuncType,\n\u001b[1;32m   (...)\u001b[0m\n\u001b[0;32m   4636\u001b[0m     \u001b[38;5;241m*\u001b[39m\u001b[38;5;241m*\u001b[39mkwargs,\n\u001b[0;32m   4637\u001b[0m ) \u001b[38;5;241m-\u001b[39m\u001b[38;5;241m>\u001b[39m DataFrame \u001b[38;5;241m|\u001b[39m Series:\n\u001b[0;32m   4638\u001b[0m \u001b[38;5;250m    \u001b[39m\u001b[38;5;124;03m\"\"\"\u001b[39;00m\n\u001b[0;32m   4639\u001b[0m \u001b[38;5;124;03m    Invoke function on values of Series.\u001b[39;00m\n\u001b[0;32m   4640\u001b[0m \n\u001b[1;32m   (...)\u001b[0m\n\u001b[0;32m   4755\u001b[0m \u001b[38;5;124;03m    dtype: float64\u001b[39;00m\n\u001b[0;32m   4756\u001b[0m \u001b[38;5;124;03m    \"\"\"\u001b[39;00m\n\u001b[0;32m   4757\u001b[0m     \u001b[38;5;28;01mreturn\u001b[39;00m SeriesApply(\n\u001b[0;32m   4758\u001b[0m         \u001b[38;5;28mself\u001b[39m,\n\u001b[0;32m   4759\u001b[0m         func,\n\u001b[0;32m   4760\u001b[0m         convert_dtype\u001b[38;5;241m=\u001b[39mconvert_dtype,\n\u001b[0;32m   4761\u001b[0m         by_row\u001b[38;5;241m=\u001b[39mby_row,\n\u001b[0;32m   4762\u001b[0m         args\u001b[38;5;241m=\u001b[39margs,\n\u001b[0;32m   4763\u001b[0m         kwargs\u001b[38;5;241m=\u001b[39mkwargs,\n\u001b[1;32m-> 4764\u001b[0m     )\u001b[38;5;241m.\u001b[39mapply()\n",
      "File \u001b[1;32mc:\\Users\\user\\anaconda3\\Lib\\site-packages\\pandas\\core\\apply.py:1209\u001b[0m, in \u001b[0;36mSeriesApply.apply\u001b[1;34m(self)\u001b[0m\n\u001b[0;32m   1206\u001b[0m     \u001b[38;5;28;01mreturn\u001b[39;00m \u001b[38;5;28mself\u001b[39m\u001b[38;5;241m.\u001b[39mapply_compat()\n\u001b[0;32m   1208\u001b[0m \u001b[38;5;66;03m# self.func is Callable\u001b[39;00m\n\u001b[1;32m-> 1209\u001b[0m \u001b[38;5;28;01mreturn\u001b[39;00m \u001b[38;5;28mself\u001b[39m\u001b[38;5;241m.\u001b[39mapply_standard()\n",
      "File \u001b[1;32mc:\\Users\\user\\anaconda3\\Lib\\site-packages\\pandas\\core\\apply.py:1289\u001b[0m, in \u001b[0;36mSeriesApply.apply_standard\u001b[1;34m(self)\u001b[0m\n\u001b[0;32m   1283\u001b[0m \u001b[38;5;66;03m# row-wise access\u001b[39;00m\n\u001b[0;32m   1284\u001b[0m \u001b[38;5;66;03m# apply doesn't have a `na_action` keyword and for backward compat reasons\u001b[39;00m\n\u001b[0;32m   1285\u001b[0m \u001b[38;5;66;03m# we need to give `na_action=\"ignore\"` for categorical data.\u001b[39;00m\n\u001b[0;32m   1286\u001b[0m \u001b[38;5;66;03m# TODO: remove the `na_action=\"ignore\"` when that default has been changed in\u001b[39;00m\n\u001b[0;32m   1287\u001b[0m \u001b[38;5;66;03m#  Categorical (GH51645).\u001b[39;00m\n\u001b[0;32m   1288\u001b[0m action \u001b[38;5;241m=\u001b[39m \u001b[38;5;124m\"\u001b[39m\u001b[38;5;124mignore\u001b[39m\u001b[38;5;124m\"\u001b[39m \u001b[38;5;28;01mif\u001b[39;00m \u001b[38;5;28misinstance\u001b[39m(obj\u001b[38;5;241m.\u001b[39mdtype, CategoricalDtype) \u001b[38;5;28;01melse\u001b[39;00m \u001b[38;5;28;01mNone\u001b[39;00m\n\u001b[1;32m-> 1289\u001b[0m mapped \u001b[38;5;241m=\u001b[39m obj\u001b[38;5;241m.\u001b[39m_map_values(\n\u001b[0;32m   1290\u001b[0m     mapper\u001b[38;5;241m=\u001b[39mcurried, na_action\u001b[38;5;241m=\u001b[39maction, convert\u001b[38;5;241m=\u001b[39m\u001b[38;5;28mself\u001b[39m\u001b[38;5;241m.\u001b[39mconvert_dtype\n\u001b[0;32m   1291\u001b[0m )\n\u001b[0;32m   1293\u001b[0m \u001b[38;5;28;01mif\u001b[39;00m \u001b[38;5;28mlen\u001b[39m(mapped) \u001b[38;5;129;01mand\u001b[39;00m \u001b[38;5;28misinstance\u001b[39m(mapped[\u001b[38;5;241m0\u001b[39m], ABCSeries):\n\u001b[0;32m   1294\u001b[0m     \u001b[38;5;66;03m# GH#43986 Need to do list(mapped) in order to get treated as nested\u001b[39;00m\n\u001b[0;32m   1295\u001b[0m     \u001b[38;5;66;03m#  See also GH#25959 regarding EA support\u001b[39;00m\n\u001b[0;32m   1296\u001b[0m     \u001b[38;5;28;01mreturn\u001b[39;00m obj\u001b[38;5;241m.\u001b[39m_constructor_expanddim(\u001b[38;5;28mlist\u001b[39m(mapped), index\u001b[38;5;241m=\u001b[39mobj\u001b[38;5;241m.\u001b[39mindex)\n",
      "File \u001b[1;32mc:\\Users\\user\\anaconda3\\Lib\\site-packages\\pandas\\core\\base.py:921\u001b[0m, in \u001b[0;36mIndexOpsMixin._map_values\u001b[1;34m(self, mapper, na_action, convert)\u001b[0m\n\u001b[0;32m    918\u001b[0m \u001b[38;5;28;01mif\u001b[39;00m \u001b[38;5;28misinstance\u001b[39m(arr, ExtensionArray):\n\u001b[0;32m    919\u001b[0m     \u001b[38;5;28;01mreturn\u001b[39;00m arr\u001b[38;5;241m.\u001b[39mmap(mapper, na_action\u001b[38;5;241m=\u001b[39mna_action)\n\u001b[1;32m--> 921\u001b[0m \u001b[38;5;28;01mreturn\u001b[39;00m algorithms\u001b[38;5;241m.\u001b[39mmap_array(arr, mapper, na_action\u001b[38;5;241m=\u001b[39mna_action, convert\u001b[38;5;241m=\u001b[39mconvert)\n",
      "File \u001b[1;32mc:\\Users\\user\\anaconda3\\Lib\\site-packages\\pandas\\core\\algorithms.py:1814\u001b[0m, in \u001b[0;36mmap_array\u001b[1;34m(arr, mapper, na_action, convert)\u001b[0m\n\u001b[0;32m   1812\u001b[0m values \u001b[38;5;241m=\u001b[39m arr\u001b[38;5;241m.\u001b[39mastype(\u001b[38;5;28mobject\u001b[39m, copy\u001b[38;5;241m=\u001b[39m\u001b[38;5;28;01mFalse\u001b[39;00m)\n\u001b[0;32m   1813\u001b[0m \u001b[38;5;28;01mif\u001b[39;00m na_action \u001b[38;5;129;01mis\u001b[39;00m \u001b[38;5;28;01mNone\u001b[39;00m:\n\u001b[1;32m-> 1814\u001b[0m     \u001b[38;5;28;01mreturn\u001b[39;00m lib\u001b[38;5;241m.\u001b[39mmap_infer(values, mapper, convert\u001b[38;5;241m=\u001b[39mconvert)\n\u001b[0;32m   1815\u001b[0m \u001b[38;5;28;01melse\u001b[39;00m:\n\u001b[0;32m   1816\u001b[0m     \u001b[38;5;28;01mreturn\u001b[39;00m lib\u001b[38;5;241m.\u001b[39mmap_infer_mask(\n\u001b[0;32m   1817\u001b[0m         values, mapper, mask\u001b[38;5;241m=\u001b[39misna(values)\u001b[38;5;241m.\u001b[39mview(np\u001b[38;5;241m.\u001b[39muint8), convert\u001b[38;5;241m=\u001b[39mconvert\n\u001b[0;32m   1818\u001b[0m     )\n",
      "File \u001b[1;32mlib.pyx:2926\u001b[0m, in \u001b[0;36mpandas._libs.lib.map_infer\u001b[1;34m()\u001b[0m\n",
      "Cell \u001b[1;32mIn[77], line 3\u001b[0m, in \u001b[0;36m<lambda>\u001b[1;34m(x)\u001b[0m\n\u001b[0;32m      1\u001b[0m \u001b[38;5;28;01mimport\u001b[39;00m \u001b[38;5;21;01mast\u001b[39;00m\n\u001b[0;32m      2\u001b[0m \u001b[38;5;66;03m# Convert genre_ids to lists using apply and ast.literal_eval (assuming valid JSON format)\u001b[39;00m\n\u001b[1;32m----> 3\u001b[0m tmdb_df[\u001b[38;5;124m'\u001b[39m\u001b[38;5;124mgenre_ids\u001b[39m\u001b[38;5;124m'\u001b[39m] \u001b[38;5;241m=\u001b[39m tmdb_df[\u001b[38;5;124m'\u001b[39m\u001b[38;5;124mgenre_ids\u001b[39m\u001b[38;5;124m'\u001b[39m]\u001b[38;5;241m.\u001b[39mapply(\u001b[38;5;28;01mlambda\u001b[39;00m x: ast\u001b[38;5;241m.\u001b[39mliteral_eval(x))\n\u001b[0;32m      4\u001b[0m \u001b[38;5;66;03m# Explode the genre_ids column (now containing lists)\u001b[39;00m\n\u001b[0;32m      5\u001b[0m tmdb_df \u001b[38;5;241m=\u001b[39m tmdb_df\u001b[38;5;241m.\u001b[39mexplode(\u001b[38;5;124m'\u001b[39m\u001b[38;5;124mgenre_ids\u001b[39m\u001b[38;5;124m'\u001b[39m)\n",
      "File \u001b[1;32mc:\\Users\\user\\anaconda3\\Lib\\ast.py:110\u001b[0m, in \u001b[0;36mliteral_eval\u001b[1;34m(node_or_string)\u001b[0m\n\u001b[0;32m    108\u001b[0m                 \u001b[38;5;28;01mreturn\u001b[39;00m left \u001b[38;5;241m-\u001b[39m right\n\u001b[0;32m    109\u001b[0m     \u001b[38;5;28;01mreturn\u001b[39;00m _convert_signed_num(node)\n\u001b[1;32m--> 110\u001b[0m \u001b[38;5;28;01mreturn\u001b[39;00m _convert(node_or_string)\n",
      "File \u001b[1;32mc:\\Users\\user\\anaconda3\\Lib\\ast.py:109\u001b[0m, in \u001b[0;36mliteral_eval.<locals>._convert\u001b[1;34m(node)\u001b[0m\n\u001b[0;32m    107\u001b[0m         \u001b[38;5;28;01melse\u001b[39;00m:\n\u001b[0;32m    108\u001b[0m             \u001b[38;5;28;01mreturn\u001b[39;00m left \u001b[38;5;241m-\u001b[39m right\n\u001b[1;32m--> 109\u001b[0m \u001b[38;5;28;01mreturn\u001b[39;00m _convert_signed_num(node)\n",
      "File \u001b[1;32mc:\\Users\\user\\anaconda3\\Lib\\ast.py:83\u001b[0m, in \u001b[0;36mliteral_eval.<locals>._convert_signed_num\u001b[1;34m(node)\u001b[0m\n\u001b[0;32m     81\u001b[0m     \u001b[38;5;28;01melse\u001b[39;00m:\n\u001b[0;32m     82\u001b[0m         \u001b[38;5;28;01mreturn\u001b[39;00m \u001b[38;5;241m-\u001b[39m operand\n\u001b[1;32m---> 83\u001b[0m \u001b[38;5;28;01mreturn\u001b[39;00m _convert_num(node)\n",
      "File \u001b[1;32mc:\\Users\\user\\anaconda3\\Lib\\ast.py:74\u001b[0m, in \u001b[0;36mliteral_eval.<locals>._convert_num\u001b[1;34m(node)\u001b[0m\n\u001b[0;32m     72\u001b[0m \u001b[38;5;28;01mdef\u001b[39;00m \u001b[38;5;21m_convert_num\u001b[39m(node):\n\u001b[0;32m     73\u001b[0m     \u001b[38;5;28;01mif\u001b[39;00m \u001b[38;5;129;01mnot\u001b[39;00m \u001b[38;5;28misinstance\u001b[39m(node, Constant) \u001b[38;5;129;01mor\u001b[39;00m \u001b[38;5;28mtype\u001b[39m(node\u001b[38;5;241m.\u001b[39mvalue) \u001b[38;5;129;01mnot\u001b[39;00m \u001b[38;5;129;01min\u001b[39;00m (\u001b[38;5;28mint\u001b[39m, \u001b[38;5;28mfloat\u001b[39m, \u001b[38;5;28mcomplex\u001b[39m):\n\u001b[1;32m---> 74\u001b[0m         _raise_malformed_node(node)\n\u001b[0;32m     75\u001b[0m     \u001b[38;5;28;01mreturn\u001b[39;00m node\u001b[38;5;241m.\u001b[39mvalue\n",
      "File \u001b[1;32mc:\\Users\\user\\anaconda3\\Lib\\ast.py:71\u001b[0m, in \u001b[0;36mliteral_eval.<locals>._raise_malformed_node\u001b[1;34m(node)\u001b[0m\n\u001b[0;32m     69\u001b[0m \u001b[38;5;28;01mif\u001b[39;00m lno \u001b[38;5;241m:=\u001b[39m \u001b[38;5;28mgetattr\u001b[39m(node, \u001b[38;5;124m'\u001b[39m\u001b[38;5;124mlineno\u001b[39m\u001b[38;5;124m'\u001b[39m, \u001b[38;5;28;01mNone\u001b[39;00m):\n\u001b[0;32m     70\u001b[0m     msg \u001b[38;5;241m+\u001b[39m\u001b[38;5;241m=\u001b[39m \u001b[38;5;124mf\u001b[39m\u001b[38;5;124m'\u001b[39m\u001b[38;5;124m on line \u001b[39m\u001b[38;5;132;01m{\u001b[39;00mlno\u001b[38;5;132;01m}\u001b[39;00m\u001b[38;5;124m'\u001b[39m\n\u001b[1;32m---> 71\u001b[0m \u001b[38;5;28;01mraise\u001b[39;00m \u001b[38;5;167;01mValueError\u001b[39;00m(msg \u001b[38;5;241m+\u001b[39m \u001b[38;5;124mf\u001b[39m\u001b[38;5;124m'\u001b[39m\u001b[38;5;124m: \u001b[39m\u001b[38;5;132;01m{\u001b[39;00mnode\u001b[38;5;132;01m!r}\u001b[39;00m\u001b[38;5;124m'\u001b[39m)\n",
      "\u001b[1;31mValueError\u001b[0m: malformed node or string: 12.0"
     ]
    }
   ],
   "source": [
    "import ast\n",
    "# Convert genre_ids to lists using apply and ast.literal_eval (assuming valid JSON format)\n",
    "tmdb_df['genre_ids'] = tmdb_df['genre_ids'].apply(lambda x: ast.literal_eval(x))\n",
    "# Explode the genre_ids column (now containing lists)\n",
    "tmdb_df = tmdb_df.explode('genre_ids')\n",
    "tmdb_df.head()"
   ]
  },
  {
   "cell_type": "code",
   "execution_count": 81,
   "metadata": {},
   "outputs": [
    {
     "data": {
      "image/png": "[encoded data removed]",
      "text/plain": [
       "<Figure size 1000x600 with 1 Axes>"
      ]
     },
     "metadata": {},
     "output_type": "display_data"
    }
   ],
   "source": [
    "\n",
    "# Assuming 'merged_data' is the result of linking tn_movie_df and tmdb_df (replace with your code)\n",
    "\n",
    "# Production Budget Histogram\n",
    "plt.figure(figsize=(10, 6))  # Adjust figure size as desired\n",
    "plt.hist(merged_data[\"production_budget\"], bins=20, edgecolor=\"black\")  # Adjust number of bins\n",
    "plt.xlabel(\"Production Budget\")\n",
    "plt.ylabel(\"Number of Movies\")\n",
    "plt.title(\"Distribution of Production Budgets (Histogram)\")\n",
    "plt.grid(True)\n",
    "plt.show()\n",
    "\n",
    "# Domestic Box Office Gross Histogram (repeat similar code with 'domestic_gross')\n",
    "\n"
   ]
  },
  {
   "cell_type": "code",
   "execution_count": 85,
   "metadata": {},
   "outputs": [
    {
     "data": {
      "image/png": "[encoded data removed]",
      "text/plain": [
       "<Figure size 1000x600 with 1 Axes>"
      ]
     },
     "metadata": {},
     "output_type": "display_data"
    }
   ],
   "source": [
    "plt.figure(figsize=(10, 6))  # Adjust figure size as desired\n",
    "plt.hist(merged_data[\"domestic_gross\"], bins=20, edgecolor=\"black\")  # Adjust number of bins\n",
    "plt.xlabel(\"Domestic Gross\")\n",
    "plt.ylabel(\"Number of Movies\")\n",
    "plt.title(\"Distribution of domestic gross(Histogram)\")\n",
    "plt.grid(True)\n",
    "plt.show()\n"
   ]
  },
  {
   "cell_type": "code",
   "execution_count": 80,
   "metadata": {},
   "outputs": [
    {
     "name": "stdout",
     "output_type": "stream",
     "text": [
      "<class 'pandas.core.frame.DataFrame'>\n",
      "RangeIndex: 5100 entries, 0 to 5099\n",
      "Data columns (total 13 columns):\n",
      " #   Column             Non-Null Count  Dtype  \n",
      "---  ------             --------------  -----  \n",
      " 0   genre_ids          5080 non-null   float64\n",
      " 1   id                 5100 non-null   int64  \n",
      " 2   original_language  5100 non-null   object \n",
      " 3   original_title     5100 non-null   object \n",
      " 4   popularity         5100 non-null   float64\n",
      " 5   release_date       5100 non-null   object \n",
      " 6   title              5100 non-null   object \n",
      " 7   vote_average       5100 non-null   float64\n",
      " 8   vote_count         5100 non-null   int64  \n",
      " 9   studio             5100 non-null   object \n",
      " 10  domestic_gross     5100 non-null   float64\n",
      " 11  foreign_gross      5100 non-null   float64\n",
      " 12  year               5100 non-null   int64  \n",
      "dtypes: float64(5), int64(3), object(5)\n",
      "memory usage: 518.1+ KB\n",
      "None\n"
     ]
    }
   ],
   "source": [
    "\n",
    "\n",
    "\n",
    "merged_df = pd.merge(tmdb_df, bom_movie_gross_df, on='title', how='inner')\n",
    "\n",
    "# Explore the merged DataFrame\n",
    "print(merged_df.info())  # Check information about the merged DataFrame\n"
   ]
  },
  {
   "cell_type": "markdown",
   "metadata": {},
   "source": [
    "### Question 2: Budget vs. Box Office:"
   ]
  },
  {
   "cell_type": "code",
   "execution_count": 65,
   "metadata": {},
   "outputs": [
    {
     "data": {
      "image/png": "[encoded data removed]",
      "text/plain": [
       "<Figure size 640x480 with 1 Axes>"
      ]
     },
     "metadata": {},
     "output_type": "display_data"
    }
   ],
   "source": [
    "\n",
    "\n",
    "\n",
    "# Merge datasets based on movie title (assuming it's unique)\n",
    "merged_df = bom_movie_gross_df.merge(tn_movie_df, on=\"domestic_gross\")\n",
    "\n",
    "# Calculate profitability (domestic gross - production budget)\n",
    "merged_df['profitability'] = merged_df['domestic_gross'] - merged_df['production_budget']\n",
    "\n",
    "# Scatter plot - budget vs. domestic gross\n",
    "plt.scatter(merged_df['production_budget'], merged_df['domestic_gross'])\n",
    "plt.xlabel(\"Production Budget\")\n",
    "plt.ylabel(\"Domestic Gross\")\n",
    "plt.title(\"Budget vs. Box Office Performance (Sample Data)\")\n",
    "plt.grid(True)\n",
    "plt.show()\n",
    "\n"
   ]
  },
  {
   "cell_type": "markdown",
   "metadata": {},
   "source": [
    "##### Advice for Microsoft's Movie Studio\n",
    "##### Analyze the scatter plot to see if there's a correlation between budget and box office gross.\n",
    "#####  - Positive correlation: Higher budgets may lead to higher box office gross, but also higher risk.\n",
    "\n",
    "* Microsoft's studio can:\n",
    "    * Focus on efficient budgeting and cost control to maximize profitability.\n",
    "    * Invest strategically in high-concept movies with strong potential returns, even if they require larger budgets.\n",
    "    * Consider co-productions or partnerships to share financial risks and resources.\n",
    "    * Analyze successful low-budget movies to understand how to achieve high returns without breaking the bank.\n",
    "\n",
    "Remember, profitability is just one aspect. Balancing budget with creative vision and audience appeal is crucial.\n"
   ]
  },
  {
   "cell_type": "markdown",
   "metadata": {},
   "source": [
    "### Question 3:  Genre, Budget, and Profitability"
   ]
  },
  {
   "cell_type": "code",
   "execution_count": null,
   "metadata": {},
   "outputs": [
    {
     "data": {
      "text/html": [
       "<div>\n",
       "<style scoped>\n",
       "    .dataframe tbody tr th:only-of-type {\n",
       "        vertical-align: middle;\n",
       "    }\n",
       "\n",
       "    .dataframe tbody tr th {\n",
       "        vertical-align: top;\n",
       "    }\n",
       "\n",
       "    .dataframe thead th {\n",
       "        text-align: right;\n",
       "    }\n",
       "</style>\n",
       "<table border=\"1\" class=\"dataframe\">\n",
       "  <thead>\n",
       "    <tr style=\"text-align: right;\">\n",
       "      <th></th>\n",
       "      <th>id</th>\n",
       "      <th>release_date</th>\n",
       "      <th>movie</th>\n",
       "      <th>production_budget</th>\n",
       "      <th>domestic_gross</th>\n",
       "      <th>worldwide_gross</th>\n",
       "    </tr>\n",
       "  </thead>\n",
       "  <tbody>\n",
       "    <tr>\n",
       "      <th>0</th>\n",
       "      <td>1</td>\n",
       "      <td>Dec 18, 2009</td>\n",
       "      <td>Avatar</td>\n",
       "      <td>425000000</td>\n",
       "      <td>760507625</td>\n",
       "      <td>2776345279</td>\n",
       "    </tr>\n",
       "    <tr>\n",
       "      <th>1</th>\n",
       "      <td>2</td>\n",
       "      <td>May 20, 2011</td>\n",
       "      <td>Pirates of the Caribbean: On Stranger Tides</td>\n",
       "      <td>410600000</td>\n",
       "      <td>241063875</td>\n",
       "      <td>1045663875</td>\n",
       "    </tr>\n",
       "    <tr>\n",
       "      <th>2</th>\n",
       "      <td>3</td>\n",
       "      <td>Jun 7, 2019</td>\n",
       "      <td>Dark Phoenix</td>\n",
       "      <td>350000000</td>\n",
       "      <td>42762350</td>\n",
       "      <td>149762350</td>\n",
       "    </tr>\n",
       "    <tr>\n",
       "      <th>3</th>\n",
       "      <td>4</td>\n",
       "      <td>May 1, 2015</td>\n",
       "      <td>Avengers: Age of Ultron</td>\n",
       "      <td>330600000</td>\n",
       "      <td>459005868</td>\n",
       "      <td>1403013963</td>\n",
       "    </tr>\n",
       "    <tr>\n",
       "      <th>4</th>\n",
       "      <td>5</td>\n",
       "      <td>Dec 15, 2017</td>\n",
       "      <td>Star Wars Ep. VIII: The Last Jedi</td>\n",
       "      <td>317000000</td>\n",
       "      <td>620181382</td>\n",
       "      <td>1316721747</td>\n",
       "    </tr>\n",
       "  </tbody>\n",
       "</table>\n",
       "</div>"
      ],
      "text/plain": [
       "   id  release_date                                        movie  \\\n",
       "0   1  Dec 18, 2009                                       Avatar   \n",
       "1   2  May 20, 2011  Pirates of the Caribbean: On Stranger Tides   \n",
       "2   3   Jun 7, 2019                                 Dark Phoenix   \n",
       "3   4   May 1, 2015                      Avengers: Age of Ultron   \n",
       "4   5  Dec 15, 2017            Star Wars Ep. VIII: The Last Jedi   \n",
       "\n",
       "   production_budget  domestic_gross  worldwide_gross  \n",
       "0          425000000       760507625       2776345279  \n",
       "1          410600000       241063875       1045663875  \n",
       "2          350000000        42762350        149762350  \n",
       "3          330600000       459005868       1403013963  \n",
       "4          317000000       620181382       1316721747  "
      ]
     },
     "execution_count": 84,
     "metadata": {},
     "output_type": "execute_result"
    }
   ],
   "source": [
    "tn_movie_df.head()"
   ]
  },
  {
   "cell_type": "code",
   "execution_count": 69,
   "metadata": {},
   "outputs": [
    {
     "data": {
      "text/html": [
       "<div>\n",
       "<style scoped>\n",
       "    .dataframe tbody tr th:only-of-type {\n",
       "        vertical-align: middle;\n",
       "    }\n",
       "\n",
       "    .dataframe tbody tr th {\n",
       "        vertical-align: top;\n",
       "    }\n",
       "\n",
       "    .dataframe thead th {\n",
       "        text-align: right;\n",
       "    }\n",
       "</style>\n",
       "<table border=\"1\" class=\"dataframe\">\n",
       "  <thead>\n",
       "    <tr style=\"text-align: right;\">\n",
       "      <th></th>\n",
       "      <th>genre_ids</th>\n",
       "      <th>id</th>\n",
       "      <th>original_language</th>\n",
       "      <th>original_title</th>\n",
       "      <th>popularity</th>\n",
       "      <th>release_date</th>\n",
       "      <th>title</th>\n",
       "      <th>vote_average</th>\n",
       "      <th>vote_count</th>\n",
       "    </tr>\n",
       "  </thead>\n",
       "  <tbody>\n",
       "    <tr>\n",
       "      <th>0</th>\n",
       "      <td>12</td>\n",
       "      <td>12444</td>\n",
       "      <td>en</td>\n",
       "      <td>Harry Potter and the Deathly Hallows: Part 1</td>\n",
       "      <td>33.533</td>\n",
       "      <td>2010-11-19</td>\n",
       "      <td>Harry Potter and the Deathly Hallows: Part 1</td>\n",
       "      <td>7.7</td>\n",
       "      <td>10788</td>\n",
       "    </tr>\n",
       "    <tr>\n",
       "      <th>0</th>\n",
       "      <td>14</td>\n",
       "      <td>12444</td>\n",
       "      <td>en</td>\n",
       "      <td>Harry Potter and the Deathly Hallows: Part 1</td>\n",
       "      <td>33.533</td>\n",
       "      <td>2010-11-19</td>\n",
       "      <td>Harry Potter and the Deathly Hallows: Part 1</td>\n",
       "      <td>7.7</td>\n",
       "      <td>10788</td>\n",
       "    </tr>\n",
       "    <tr>\n",
       "      <th>0</th>\n",
       "      <td>10751</td>\n",
       "      <td>12444</td>\n",
       "      <td>en</td>\n",
       "      <td>Harry Potter and the Deathly Hallows: Part 1</td>\n",
       "      <td>33.533</td>\n",
       "      <td>2010-11-19</td>\n",
       "      <td>Harry Potter and the Deathly Hallows: Part 1</td>\n",
       "      <td>7.7</td>\n",
       "      <td>10788</td>\n",
       "    </tr>\n",
       "    <tr>\n",
       "      <th>1</th>\n",
       "      <td>14</td>\n",
       "      <td>10191</td>\n",
       "      <td>en</td>\n",
       "      <td>How to Train Your Dragon</td>\n",
       "      <td>28.734</td>\n",
       "      <td>2010-03-26</td>\n",
       "      <td>How to Train Your Dragon</td>\n",
       "      <td>7.7</td>\n",
       "      <td>7610</td>\n",
       "    </tr>\n",
       "    <tr>\n",
       "      <th>1</th>\n",
       "      <td>12</td>\n",
       "      <td>10191</td>\n",
       "      <td>en</td>\n",
       "      <td>How to Train Your Dragon</td>\n",
       "      <td>28.734</td>\n",
       "      <td>2010-03-26</td>\n",
       "      <td>How to Train Your Dragon</td>\n",
       "      <td>7.7</td>\n",
       "      <td>7610</td>\n",
       "    </tr>\n",
       "  </tbody>\n",
       "</table>\n",
       "</div>"
      ],
      "text/plain": [
       "  genre_ids     id original_language  \\\n",
       "0        12  12444                en   \n",
       "0        14  12444                en   \n",
       "0     10751  12444                en   \n",
       "1        14  10191                en   \n",
       "1        12  10191                en   \n",
       "\n",
       "                                 original_title  popularity release_date  \\\n",
       "0  Harry Potter and the Deathly Hallows: Part 1      33.533   2010-11-19   \n",
       "0  Harry Potter and the Deathly Hallows: Part 1      33.533   2010-11-19   \n",
       "0  Harry Potter and the Deathly Hallows: Part 1      33.533   2010-11-19   \n",
       "1                      How to Train Your Dragon      28.734   2010-03-26   \n",
       "1                      How to Train Your Dragon      28.734   2010-03-26   \n",
       "\n",
       "                                          title  vote_average  vote_count  \n",
       "0  Harry Potter and the Deathly Hallows: Part 1           7.7       10788  \n",
       "0  Harry Potter and the Deathly Hallows: Part 1           7.7       10788  \n",
       "0  Harry Potter and the Deathly Hallows: Part 1           7.7       10788  \n",
       "1                      How to Train Your Dragon           7.7        7610  \n",
       "1                      How to Train Your Dragon           7.7        7610  "
      ]
     },
     "execution_count": 69,
     "metadata": {},
     "output_type": "execute_result"
    }
   ],
   "source": [
    "tmdb_df.head()"
   ]
  },
  {
   "cell_type": "code",
   "execution_count": 70,
   "metadata": {},
   "outputs": [
    {
     "data": {
      "text/plain": [
       "0           12\n",
       "0           14\n",
       "0        10751\n",
       "1           14\n",
       "1           12\n",
       "         ...  \n",
       "26515    10751\n",
       "26515       12\n",
       "26515       28\n",
       "26516       53\n",
       "26516       27\n",
       "Name: genre_ids, Length: 47834, dtype: object"
      ]
     },
     "execution_count": 70,
     "metadata": {},
     "output_type": "execute_result"
    }
   ],
   "source": [
    "tmdb_df['genre_ids']"
   ]
  },
  {
   "cell_type": "code",
   "execution_count": 72,
   "metadata": {},
   "outputs": [
    {
     "data": {
      "text/plain": [
       "0           12.0\n",
       "0           14.0\n",
       "0        10751.0\n",
       "1           14.0\n",
       "1           12.0\n",
       "          ...   \n",
       "26515    10751.0\n",
       "26515       12.0\n",
       "26515       28.0\n",
       "26516       53.0\n",
       "26516       27.0\n",
       "Name: genre_ids, Length: 47834, dtype: float64"
      ]
     },
     "execution_count": 72,
     "metadata": {},
     "output_type": "execute_result"
    }
   ],
   "source": [
    "tmdb_df['genre_ids'] = pd.to_numeric(tmdb_df['genre_ids'], errors='coerce')\n",
    "tmdb_df['genre_ids']\n"
   ]
  },
  {
   "cell_type": "code",
   "execution_count": null,
   "metadata": {},
   "outputs": [
    {
     "data": {
      "text/html": [
       "<div>\n",
       "<style scoped>\n",
       "    .dataframe tbody tr th:only-of-type {\n",
       "        vertical-align: middle;\n",
       "    }\n",
       "\n",
       "    .dataframe tbody tr th {\n",
       "        vertical-align: top;\n",
       "    }\n",
       "\n",
       "    .dataframe thead th {\n",
       "        text-align: right;\n",
       "    }\n",
       "</style>\n",
       "<table border=\"1\" class=\"dataframe\">\n",
       "  <thead>\n",
       "    <tr style=\"text-align: right;\">\n",
       "      <th></th>\n",
       "      <th>title</th>\n",
       "      <th>studio</th>\n",
       "      <th>domestic_gross</th>\n",
       "      <th>foreign_gross</th>\n",
       "      <th>year</th>\n",
       "    </tr>\n",
       "  </thead>\n",
       "  <tbody>\n",
       "    <tr>\n",
       "      <th>21</th>\n",
       "      <td>Resident Evil: Afterlife</td>\n",
       "      <td>SGem</td>\n",
       "      <td>60100000.0</td>\n",
       "      <td>240100000.0</td>\n",
       "      <td>2010</td>\n",
       "    </tr>\n",
       "    <tr>\n",
       "      <th>25</th>\n",
       "      <td>The Tourist</td>\n",
       "      <td>Sony</td>\n",
       "      <td>67600000.0</td>\n",
       "      <td>210700000.0</td>\n",
       "      <td>2010</td>\n",
       "    </tr>\n",
       "    <tr>\n",
       "      <th>30</th>\n",
       "      <td>Gulliver's Travels</td>\n",
       "      <td>Fox</td>\n",
       "      <td>42800000.0</td>\n",
       "      <td>194600000.0</td>\n",
       "      <td>2010</td>\n",
       "    </tr>\n",
       "    <tr>\n",
       "      <th>34</th>\n",
       "      <td>The Sorcerer's Apprentice</td>\n",
       "      <td>BV</td>\n",
       "      <td>63200000.0</td>\n",
       "      <td>152100000.0</td>\n",
       "      <td>2010</td>\n",
       "    </tr>\n",
       "    <tr>\n",
       "      <th>44</th>\n",
       "      <td>Step Up 3-D</td>\n",
       "      <td>BV</td>\n",
       "      <td>42400000.0</td>\n",
       "      <td>116900000.0</td>\n",
       "      <td>2010</td>\n",
       "    </tr>\n",
       "  </tbody>\n",
       "</table>\n",
       "</div>"
      ],
      "text/plain": [
       "                        title studio  domestic_gross  foreign_gross  year\n",
       "21   Resident Evil: Afterlife   SGem      60100000.0    240100000.0  2010\n",
       "25                The Tourist   Sony      67600000.0    210700000.0  2010\n",
       "30         Gulliver's Travels    Fox      42800000.0    194600000.0  2010\n",
       "34  The Sorcerer's Apprentice     BV      63200000.0    152100000.0  2010\n",
       "44                Step Up 3-D     BV      42400000.0    116900000.0  2010"
      ]
     },
     "execution_count": 86,
     "metadata": {},
     "output_type": "execute_result"
    }
   ],
   "source": [
    "bom_movie_gross_df.head()"
   ]
  },
  {
   "cell_type": "code",
   "execution_count": 64,
   "metadata": {},
   "outputs": [
    {
     "name": "stdout",
     "output_type": "stream",
     "text": [
      "budget_category   High Budget    Low Budget  Medium Budget\n",
      "genre_ids                                                 \n",
      "12                        NaN  3.080456e+07   3.423543e+07\n",
      "14                        NaN -5.124226e+06  -1.609509e+07\n",
      "16                        NaN -5.462285e+06   1.499378e+07\n",
      "18               3.097438e+07  1.804036e+07   1.672079e+07\n",
      "27                        NaN  7.171993e+06   1.127857e+07\n",
      "28               6.174080e+07  1.728774e+07   3.254150e+07\n",
      "35               5.086203e+07  9.097780e+06   2.933917e+07\n",
      "36                        NaN  1.342544e+07   1.650902e+07\n",
      "37              -5.657988e+07 -7.276482e+05   2.249341e+07\n",
      "53               6.840017e+07  6.547094e+06  -3.674478e+06\n",
      "80               8.994969e+07  2.347530e+06  -3.051621e+06\n",
      "99                        NaN  2.526798e+07  -4.432308e+06\n",
      "878                       NaN  6.702356e+07   1.935710e+06\n",
      "9648             4.739751e+07 -8.448868e+06   2.015578e+07\n",
      "10402            2.179025e+07 -4.017688e+06   4.699507e+07\n",
      "10749            1.219638e+08  1.932314e+07   2.672197e+07\n",
      "10751           -1.325338e+07  5.175950e+07   5.092698e+06\n",
      "10752                     NaN -5.550597e+06  -2.633878e+07\n"
     ]
    }
   ],
   "source": [
    "\n",
    "\n",
    "# Merge datasets based on movie title (assuming it's unique)\n",
    "merged_df = tmdb_df.merge(bom_movie_gross_df, on=\"title\")\n",
    "merged_df = merged_df.merge(tn_movie_df, on=\"domestic_gross\")  # Use movie_title for tn_movie_df\n",
    "\n",
    "# Explode genres into separate rows (if genres is a list)\n",
    "\n",
    "exploded_df = merged_df.explode('genre_ids')\n",
    "\n",
    "# Define budget categories based on quartiles\n",
    "budget_quartiles = tn_movie_df['production_budget'].quantile([0.25, 0.5, 0.75])\n",
    "budget_categories = {\n",
    "    \"Low Budget\": (0, budget_quartiles[0.25]),\n",
    "    \"Medium Budget\": (budget_quartiles[0.25], budget_quartiles[0.75]),\n",
    "    \"High Budget\": (budget_quartiles[0.75], float(\"inf\"))\n",
    "}\n",
    "\n",
    "def categorize_budget(budget):\n",
    "  for category, range in budget_categories.items():\n",
    "    if budget >= range[0] and budget < range[1]:\n",
    "      return category\n",
    "  return None\n",
    "\n",
    "exploded_df['budget_category'] = exploded_df['production_budget'].apply(categorize_budget)\n",
    "\n",
    "# Group by genre and budget category\n",
    "exploded_df['profitability'] = tn_movie_df['domestic_gross'] - tn_movie_df['production_budget']\n",
    "profitability_by_genre_budget = exploded_df.groupby(['genre_ids', 'budget_category'])['profitability'].mean()\n",
    "\n",
    "# Visualize results using pivot table or heatmap (pivot table example)\n",
    "pivot_table = profitability_by_genre_budget.unstack()\n",
    "print(pivot_table)\n",
    "\n",
    "\n",
    "\n"
   ]
  },
  {
   "cell_type": "markdown",
   "metadata": {},
   "source": [
    "##### Advice for Microsoft's Movie Studio\n",
    "* Analyze the profitability pivot table to identify genre-budget combinations with historically high profitability.\n",
    "* Focus on developing movies within these genres and budget ranges. \n",
    "* Consider genre mashups to target wider audiences while appealing to fans of both genres, but be mindful of budget constraints.\n",
    "* Diversify your portfolio with some lower-budget, high-concept movies that have the potential for high returns.  \n",
    "* Use the insights to make informed decisions about resource allocation and project selection.\n",
    "\n",
    "Remember, this analysis is based on historical data and may not be a perfect predictor of future success. Consider incorporating qualitative factors like script quality and audience preferences into your decision-making process."
   ]
  },
  {
   "cell_type": "markdown",
   "metadata": {},
   "source": [
    "### Question 4:  What is the top 10 movies from gross earnings to check if the movies trending in domestic gross are the same in worldwide gross"
   ]
  },
  {
   "cell_type": "code",
   "execution_count": 61,
   "metadata": {},
   "outputs": [
    {
     "data": {
      "text/plain": [
       "0       760507625\n",
       "1       241063875\n",
       "2        42762350\n",
       "3       459005868\n",
       "4       620181382\n",
       "          ...    \n",
       "5777            0\n",
       "5778        48482\n",
       "5779         1338\n",
       "5780            0\n",
       "5781       181041\n",
       "Name: domestic_gross, Length: 5782, dtype: int32"
      ]
     },
     "execution_count": 61,
     "metadata": {},
     "output_type": "execute_result"
    }
   ],
   "source": [
    "\n",
    "\n",
    "\n",
    "# Remove dollar sign, commas, and convert to integer\n",
    "tn_movie_df['domestic_gross'] = tn_movie_df['domestic_gross'].str.replace(',', '').str.replace('$', '').astype(int)\n",
    "\n",
    "# Print the DataFrame\n",
    "tn_movie_df['domestic_gross']\n",
    "\n"
   ]
  },
  {
   "cell_type": "code",
   "execution_count": 62,
   "metadata": {},
   "outputs": [
    {
     "data": {
      "text/plain": [
       "0       2776345279\n",
       "1       1045663875\n",
       "2        149762350\n",
       "3       1403013963\n",
       "4       1316721747\n",
       "           ...    \n",
       "5777             0\n",
       "5778        240495\n",
       "5779          1338\n",
       "5780             0\n",
       "5781        181041\n",
       "Name: worldwide_gross, Length: 5782, dtype: int64"
      ]
     },
     "execution_count": 62,
     "metadata": {},
     "output_type": "execute_result"
    }
   ],
   "source": [
    "tn_movie_df['worldwide_gross'] = pd.to_numeric(tn_movie_df['worldwide_gross'].str.replace(',', '').str.replace('$', ''), errors='coerce')\n",
    "tn_movie_df['worldwide_gross']\n",
    "\n"
   ]
  },
  {
   "cell_type": "code",
   "execution_count": 63,
   "metadata": {},
   "outputs": [
    {
     "data": {
      "text/plain": [
       "0       425000000\n",
       "1       410600000\n",
       "2       350000000\n",
       "3       330600000\n",
       "4       317000000\n",
       "          ...    \n",
       "5777         7000\n",
       "5778         6000\n",
       "5779         5000\n",
       "5780         1400\n",
       "5781         1100\n",
       "Name: production_budget, Length: 5782, dtype: int64"
      ]
     },
     "execution_count": 63,
     "metadata": {},
     "output_type": "execute_result"
    }
   ],
   "source": [
    "tn_movie_df['production_budget'] = pd.to_numeric(tn_movie_df['production_budget'].str.replace(',', '').str.replace('$', ''), errors='coerce')\n",
    "tn_movie_df['production_budget']"
   ]
  },
  {
   "cell_type": "code",
   "execution_count": null,
   "metadata": {},
   "outputs": [
    {
     "data": {
      "image/png": "[encoded data removed]",
      "text/plain": [
       "<Figure size 2500x2000 with 1 Axes>"
      ]
     },
     "metadata": {},
     "output_type": "display_data"
    }
   ],
   "source": [
    "movies_10_domestic = tn_movie_df.sort_values(by='domestic_gross', ascending=False).head(10)\n",
    "\n",
    "\n",
    "fig, ax1 = plt.subplots(figsize=(25, 20))  # Separate axes in a tuple\n",
    "\n",
    "ax1.bar(movies_10_domestic['movie'], movies_10_domestic['domestic_gross'])\n",
    "\n",
    "\n",
    "ax1.set_xlabel('Top 10 Movies (Domestic)')\n",
    "\n",
    "ax1.set_ylabel('Domestic Gross')\n",
    "\n",
    "\n",
    "ax1.set_title('Top 10 Movies in Domestic Gross')\n",
    "\n",
    "\n",
    "plt.tight_layout()\n",
    "plt.show()\n"
   ]
  },
  {
   "cell_type": "code",
   "execution_count": null,
   "metadata": {},
   "outputs": [
    {
     "data": {
      "image/png": "[encoded data removed]",
      "text/plain": [
       "<Figure size 2500x2000 with 1 Axes>"
      ]
     },
     "metadata": {},
     "output_type": "display_data"
    }
   ],
   "source": [
    "movies_10_worldwide = tn_movie_df.sort_values(by='worldwide_gross', ascending=False).head(10)\n",
    "fig, ax2= plt.subplots(figsize=(25, 20))\n",
    "ax2.bar(movies_10_worldwide['movie'], movies_10_worldwide['worldwide_gross'])\n",
    "\n",
    "ax2.set_xlabel('Top 10 Movies (Worldwide)')\n",
    "ax2.set_ylabel('Worldwide Gross')\n",
    "ax2.set_title('Top 10 Movies in Worldwide Gross')\n",
    "plt.tight_layout()\n",
    "plt.show()"
   ]
  },
  {
   "cell_type": "markdown",
   "metadata": {},
   "source": [
    "##### Image 1 (Domestic Gross)  \n",
    "\n",
    "The following movies are listed in the first image, but their order is not necessarily indicative of rank:  \n",
    "\n",
    "Star Wars Ep. VII: The Force Awakens  \n",
    "Black Panther  \n",
    "Avengers: Infinity War  \n",
    "Titanic  \n",
    "The Avengers  \n",
    "Star Wars Ep. VIII: The Last Jedi (It is assumed to be Star Wars Ep. VIII: The Last Jedi)  \n",
    "Incredibles 2  \n",
    "The Dark Knight  \n",
    "Jurassic World  \n",
    "The Avengers: Age of Ultron  \n",
    "\n",
    "##### Image 2 (Worldwide Gross)  \n",
    "\n",
    "The following movies are listed in the second image, but their order is not necessarily indicative of rank:  \n",
    "  \n",
    "Avatar  \n",
    "Avengers: Endgame  \n",
    "Titanic  \n",
    "Star Wars Episode VII: The Force Awakens  \n",
    "Avengers: Infinity War    \n",
    "Spider-Man: No Way Home  \n",
    "Jurassic World  \n",
    "The Avengers  \n",
    "The Lion King (2019)  \n",
    "Furious 7  \n",
    "Comparison:   \n",
    "\n",
    "Here's a comparison of the movies that appear in both lists:  \n",
    "\n",
    "Match:  \n",
    "Star Wars Ep. VII: The Force Awakens  \n",
    "Titanic  \n",
    "Avengers: Infinity War  \n",
    "Jurassic World  \n",
    "The Avengers   \n",
    "Domestic Only:  \n",
    "Black Panther  \n",
    "Incredibles 2  \n",
    "The Dark Knight  \n",
    "The Avengers: Age of Ultron  \n",
    "Worldwide Only:  \n",
    "Avatar  \n",
    "Avengers: Endgame  \n",
    "Spider-Man: No Way Home  \n",
    "The Lion King (2019)  \n",
    "Furious 7  \n",
    "##### Observations:  \n",
    "\n",
    "There is a significant overlap between the top domestic grossing movies and the top worldwide grossing movies. This suggests that movies that are popular domestically tend to also be popular internationally.  \n",
    "However, there are also some notable differences. Several big-budget franchises, such as Avatar, Avengers: Endgame, and Spider-Man: No Way Home, performed even better internationally than domestically. This might be due to the larger audience base in international markets.  \n",
    "Interestingly, some superhero movies, like Black Panther, appear to be more dominant domestically. This could be due to factors like cultural relevance or strong marketing campaigns targeted towards the domestic audience.  \n",
    "Advice for Microsoft:  \n",
    "\n",
    "##### Based on these findings, here's some advice you can offer Microsoft:  \n",
    "Focus on big-budget franchises with global appeal: Since movies like Avatar, Avengers: Endgame, and Spider-Man: No Way Home did well internationally, Microsoft could prioritize acquiring or producing films from established franchises with a strong international fanbase.  \n",
    "Consider cultural relevance: While some superhero movies are popular domestically, Black Panther's higher domestic performance suggests cultural relevance can play a role. Microsoft may want to consider factors like cultural relevance when making content decisions for specific markets.  \n",
    "Look beyond Hollywood: The success of The Lion King (2019) indicates that audiences are receptive to non-Hollywood movies. Microsoft could explore opportunities in international film markets."
   ]
  },
  {
   "cell_type": "markdown",
   "metadata": {},
   "source": [
    "### Question5:  What is the distribution of release years for all the movies in the dataset?\n",
    "\n",
    "\n"
   ]
  },
  {
   "cell_type": "code",
   "execution_count": null,
   "metadata": {},
   "outputs": [
    {
     "data": {
      "image/png": "[encoded data removed]",
      "text/plain": [
       "<Figure size 800x500 with 1 Axes>"
      ]
     },
     "metadata": {},
     "output_type": "display_data"
    }
   ],
   "source": [
    "\n",
    "\n",
    "# Assuming 'release_date' is a column containing release years\n",
    "all_movies_df = pd.concat([bom_movie_gross_df, tn_movie_df])  # Combine DataFrames\n",
    "\n",
    "# Extract the year from the release date (modify if format differs)\n",
    "all_movies_df['year'] = pd.to_datetime(all_movies_df['release_date']).dt.year\n",
    "\n",
    "# Count movies by release year\n",
    "year_counts = all_movies_df['year'].value_counts()\n",
    "\n",
    "# Create a histogram\n",
    "plt.figure(figsize=(8, 5))\n",
    "plt.hist(year_counts.index, bins=10, edgecolor='black')  # Adjust bin count as needed\n",
    "plt.xlabel('Release Year')\n",
    "plt.ylabel('Number of Movies')\n",
    "plt.title('Distribution of Movie Release Years')\n",
    "plt.xticks(rotation=45)\n",
    "plt.tight_layout()\n",
    "plt.show()\n",
    "\n"
   ]
  },
  {
   "cell_type": "markdown",
   "metadata": {},
   "source": [
    "##### Microsofts advice:\n",
    "\n",
    "* Focus on consistent production: The graph doesn't show a clear upward or downward trend, suggesting that Microsoft's movie studio might benefit from establishing a consistent production schedule. This could involve releasing a certain number of movies each year to build audience anticipation.\n",
    "\n",
    "* Consider seasonal effects: If there are seasonal trends in movie viewership (e.g., summer blockbusters), Microsoft's studio could release movies strategically to capitalize on those trends.\n",
    "\n",
    "* Analyze external factors: There may be external factors influencing the number of movies released, such as economic conditions, mergers and acquisitions, or changes in leadership.  Understanding these factors can help Microsoft's studio make informed decisions about production volume."
   ]
  }
 ],
 "metadata": {
  "kernelspec": {
   "display_name": "Python (learn-env)",
   "language": "python",
   "name": "learn-env"
  },
  "language_info": {
   "codemirror_mode": {
    "name": "ipython",
    "version": 3
   },
   "file_extension": ".py",
   "mimetype": "text/x-python",
   "name": "python",
   "nbconvert_exporter": "python",
   "pygments_lexer": "ipython3",
   "version": "3.11.7"
  }
 },
 "nbformat": 4,
 "nbformat_minor": 2
}
